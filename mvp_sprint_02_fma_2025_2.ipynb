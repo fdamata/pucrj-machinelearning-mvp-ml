{
 "cells": [
  {
   "cell_type": "markdown",
   "metadata": {
    "id": "cmYX3PLx58Jg"
   },
   "source": [
    "#### MVP Machine Learning & Analytics\n",
    "\n",
    "**Nome:** Fabiano da Mata Almeida<br>\n",
    "**Matrícula:** 4052025000952<br>\n",
    "**Dataset:** Pressão de Vapor da nafta.\n",
    "\n",
    "**Nota sobre confidencialidade e descaracterização dos dados:**  \n",
    "> Para garantir a confidencialidade e o respeito à privacidade, todos os dados utilizados neste estudo foram devidamente descaracterizados, não permitindo a identificação na sua unidade de medida original ou informações sensíveis.<br>\n",
    "O uso desse dataset segue as boas práticas de ética em ciência de dados, assegurando que nenhuma informação pessoal ou confidencial seja exposta durante as análises."
   ]
  },
  {
   "cell_type": "markdown",
   "metadata": {},
   "source": [
    "# 1. Escopo, Objetivo e Definição do Problema\n",
    "\n",
    "## 1.1. Contexto do problema e objetivo\n",
    "\n",
    "O conjunto de dados **Pressão de Vapor da Nafta** contempla observações de uma corrente do processo de fracionamento do petróleo, contendo variáveis físico-químicas do processo e propriedades da corrente.\n",
    "\n",
    "A variável alvo representa a pressão exercida pelo vapor em equilíbrio com sua fase líquida a uma temperatura específica. Essa propriedade caracteriza a volatilidade da corrente, impactando requisitos de armazenamento, segurança, transporte e conformidade regulatória.\n",
    "\n",
    "**Objetivo:** Desenvolver um modelo preditivo para estimar a pressão de vapor da nafta com precisão, permitindo operação próxima ao limite superior da especificação sem comprometer a segurança.\n",
    "\n",
    "*Nota: O conjunto de dados foi previamente analisado na SPRINT de Análise de Dados e Boas Práticas, permitindo EDA simplificada.*\n",
    "\n",
    "## 1.2. Tipo de tarefa\n",
    "\n",
    "Estudo de **regressão** com dados tabulares originados de sensores industriais e ensaios laboratoriais, aplicado à engenharia de processos na formulação de gasolina automotiva.\n",
    "\n",
    "A tarefa envolve desenvolvimento de modelo supervisionado para predição contínua de propriedade físico-química crítica.\n",
    "\n",
    "## 1.3. Valor para o negócio/usuário\n",
    "\n",
    "**Ganho econômico:** A predição confiável permite incorporar frações mais pesadas do GLP à nafta, agregando valor significativo (GLP vale ~50% da gasolina por volume).\n",
    "\n",
    "**Aplicações operacionais:**\n",
    "- Otimização de parâmetros operacionais em tempo real\n",
    "- Integração em sistemas de controle preditivo multivariável (MPC)\n",
    "- Automação da gestão da propriedade\n",
    "\n",
    "**Beneficiários:** Engenharia de Processos, Operações Industriais e Segurança Operacional, através de maior eficiência, previsibilidade e controle de qualidade.\n"
   ]
  },
  {
   "cell_type": "markdown",
   "metadata": {},
   "source": [
    "# 2. Reprodutibilidade e ambiente\n",
    "\n",
    "Esta seção consolida todas as importações de bibliotecas necessárias, definições das funções utilizadas e algumas configurações iniciais globais."
   ]
  },
  {
   "cell_type": "code",
   "execution_count": null,
   "metadata": {},
   "outputs": [],
   "source": [
    "# Bibliotecas básicas\n",
    "import time, sys, joblib, math, os\n",
    "from datetime import datetime\n",
    "import pandas as pd\n",
    "import numpy as np\n",
    "import matplotlib.pyplot as plt\n",
    "from matplotlib.colors import Normalize\n",
    "from matplotlib.cm import viridis\n",
    "import seaborn as sns\n",
    "\n",
    "# Visualização\n",
    "import plotly.express as px\n",
    "import plotly.graph_objects as go\n",
    "from plotly.subplots import make_subplots\n",
    "from tabulate import tabulate\n",
    "\n",
    "# Análise estatística\n",
    "from scipy.stats import norm, kstest\n",
    "import statsmodels.api as sm\n",
    "from statsmodels.stats.outliers_influence import variance_inflation_factor\n",
    "\n",
    "# Machine Learning - Model Selection and Evaluation\n",
    "from sklearn.model_selection import train_test_split, cross_validate, KFold\n",
    "from sklearn.preprocessing import StandardScaler, MinMaxScaler\n",
    "from sklearn.metrics import make_scorer, mean_squared_error, r2_score, mean_absolute_error\n",
    "from sklearn.pipeline import Pipeline\n",
    "from sklearn.base import clone\n",
    "from sklearn.linear_model import LinearRegression,Ridge, Lasso, ElasticNet\n",
    "from sklearn.ensemble import RandomForestRegressor, ExtraTreesRegressor, GradientBoostingRegressor\n",
    "from sklearn.svm import SVR\n",
    "from xgboost import XGBRegressor\n",
    "import xgboost as xgb\n",
    "from lightgbm import LGBMRegressor\n",
    "import lightgbm as lgb\n",
    "from catboost import CatBoostRegressor\n",
    "from skopt import BayesSearchCV\n",
    "from skopt.space import Real, Integer, Categorical\n",
    "from skopt.plots import plot_objective\n",
    "from skopt.callbacks import VerboseCallback, CheckpointSaver\n",
    "\n",
    "# Configuração para não exibir os warnings\n",
    "import warnings\n",
    "warnings.filterwarnings(\"ignore\")\n",
    "\n",
    "# Configurações de exibição\n",
    "pd.options.display.float_format = '{:.4f}'.format  # Define o formato de exibição dos números float no pandas para quatro casas decimais\n",
    "pd.set_option('display.expand_frame_repr', False)  # Não quebra a representação do dataframe\n",
    "np.set_printoptions(precision=8, suppress=True, floatmode='maxprec') # Define o formato de exibição dos números float no numpy para oito casas decimais e sem notação científica\n"
   ]
  },
  {
   "cell_type": "code",
   "execution_count": null,
   "metadata": {},
   "outputs": [],
   "source": [
    "# import inspect\n",
    "\n",
    "# reg = LGBMRegressor()\n",
    "# sig = inspect.signature(reg.fit)\n",
    "# supported = set(sig.parameters.keys())"
   ]
  },
  {
   "cell_type": "markdown",
   "metadata": {},
   "source": [
    "## 2.1 Dependências\n",
    "Eventual instalação de pacotes extras. <br>\n",
    "*Manter o projeto enxuto*."
   ]
  },
  {
   "cell_type": "code",
   "execution_count": null,
   "metadata": {},
   "outputs": [],
   "source": [
    "# Exemplo: descomente o que precisar\n",
    "# !pip install -q scikit-learn imbalanced-learn xgboost lightgbm catboost optuna\n",
    "# !pip install -q pandas-profiling ydata-profiling\n",
    "# !pip install -q matplotlib seaborn plotly\n",
    "# !pip install -q statsmodels pmdarima"
   ]
  },
  {
   "cell_type": "markdown",
   "metadata": {},
   "source": [
    "## 2.2. Funções e Classes python\n",
    "Definição de funções em Python. <br>\n",
    "*Essa é uma boa prática de programação que facilita a leitura, manutenção e evolução do seu projeto.*"
   ]
  },
  {
   "cell_type": "code",
   "execution_count": null,
   "metadata": {},
   "outputs": [],
   "source": [
    "class MetricsMonitorCallback:\n",
    "    \"\"\"\n",
    "    Callback para monitorar métricas durante a otimização bayesiana,\n",
    "    detectar overfitting e gerar visualizações.\n",
    "    \"\"\"\n",
    "    def __init__(self, model_name, scaler_name, metric, threshold=0.2, \n",
    "                 plot_interval=5, plot_dir='optimization_plots'):\n",
    "        \"\"\"\n",
    "        Inicializa o callback para monitoramento de métricas.\n",
    "        \n",
    "        Args:\n",
    "            model_name (str): Nome do modelo sendo otimizado\n",
    "            scaler_name (str): Nome do scaler utilizado\n",
    "            metric (str): Nome da métrica principal a ser monitorada\n",
    "            threshold (float): Limiar para detecção de overfitting (diferença entre treino e validação)\n",
    "            plot_interval (int): Intervalo de iterações para gerar gráficos\n",
    "            plot_dir (str): Diretório para salvar os gráficos\n",
    "        \"\"\"\n",
    "        self.model_name = model_name\n",
    "        self.scaler_name = scaler_name\n",
    "        self.metric = metric\n",
    "        self.threshold = threshold\n",
    "        self.plot_interval = plot_interval\n",
    "        self.plot_dir = plot_dir\n",
    "        self.bayes_search = None\n",
    "        self.iteration = 0\n",
    "        self.train_scores = []\n",
    "        self.val_scores = []\n",
    "        self.params_history = []\n",
    "        self.overfitting_detected = False\n",
    "        self.is_higher_better = metric in ['r2']\n",
    "        \n",
    "        # Criar diretório para os gráficos se não existir\n",
    "        os.makedirs(plot_dir, exist_ok=True)\n",
    "        \n",
    "        # Timestamp para identificar a execução\n",
    "        self.timestamp = datetime.now().strftime(\"%Y%m%d_%H%M%S\")\n",
    "    \n",
    "    def __call__(self, res):\n",
    "        \"\"\"\n",
    "        Método chamado a cada iteração da busca bayesiana.\n",
    "        \n",
    "        Args:\n",
    "            res: Resultado atual da otimização\n",
    "        \"\"\"\n",
    "        self.iteration += 1\n",
    "        \n",
    "        # Acessar os resultados diretamente do objeto res\n",
    "        # Em vez de depender do cv_results_ do BayesSearchCV\n",
    "        try:\n",
    "            # Extrair informações do resultado atual\n",
    "            if hasattr(res, 'func_vals'):\n",
    "                # res.func_vals contém os valores negativos da métrica sendo otimizada\n",
    "                # (skopt sempre minimiza, então métricas como accuracy são negadas)\n",
    "                current_val_score = -res.func_vals[-1] if len(res.func_vals) > 0 else None\n",
    "                \n",
    "                # Extrair os parâmetros desta iteração\n",
    "                current_params = {}\n",
    "                if hasattr(res, 'x_iters') and len(res.x_iters) > 0:\n",
    "                    # Os parâmetros da iteração atual estão em x_iters[-1]\n",
    "                    param_values = res.x_iters[-1]\n",
    "                    \n",
    "                    # Se tivermos acesso ao BayesSearchCV, podemos obter os nomes dos parâmetros\n",
    "                    if self.bayes_search is not None and hasattr(self.bayes_search, 'search_spaces_'):\n",
    "                        param_names = list(self.bayes_search.search_spaces_.keys())\n",
    "                        for i, name in enumerate(param_names):\n",
    "                            if i < len(param_values):\n",
    "                                current_params[name] = param_values[i]\n",
    "                \n",
    "                # Como não temos acesso direto ao train_score durante a otimização,\n",
    "                # vamos estimar usando um valor fictício ou deixar como None\n",
    "                current_train_score = None\n",
    "                \n",
    "                # Adicionar os valores às listas\n",
    "                if current_val_score is not None:\n",
    "                    self.val_scores.append(current_val_score)\n",
    "                    # Adicionar um placeholder para o train_score\n",
    "                    # Será atualizado no final quando tivermos acesso ao cv_results_\n",
    "                    self.train_scores.append(current_train_score)\n",
    "                    self.params_history.append(current_params)\n",
    "                \n",
    "                # Imprimir progresso\n",
    "                print(f\"\\nIteração {self.iteration}: {self.model_name} + {self.scaler_name}\")\n",
    "                print(f\"   Validação estimada {self.metric}: {current_val_score:.4f}\")\n",
    "                \n",
    "                # # Gerar gráfico a cada plot_interval iterações\n",
    "                # if self.iteration % self.plot_interval == 0:\n",
    "                #     self._plot_progress()\n",
    "        \n",
    "        except Exception as e:\n",
    "            print(f\"Erro ao processar resultados da iteração {self.iteration}: {str(e)}\")\n",
    "    \n",
    "    def finalize(self):\n",
    "        \"\"\"\n",
    "        Método a ser chamado após a conclusão da otimização para\n",
    "        atualizar as métricas com os valores reais de cv_results_\n",
    "        \"\"\"\n",
    "        if self.bayes_search is None or not hasattr(self.bayes_search, 'cv_results_'):\n",
    "            print(\"Aviso: Não foi possível acessar cv_results_ para finalização.\")\n",
    "            return\n",
    "        \n",
    "        try:\n",
    "            cv_results = self.bayes_search.cv_results_\n",
    "            train_key = f'mean_train_{self.metric}'\n",
    "            test_key = f'mean_test_{self.metric}'\n",
    "            \n",
    "            if train_key in cv_results and test_key in cv_results:\n",
    "                # Atualizar as métricas com os valores reais\n",
    "                self.train_scores = list(cv_results[train_key])\n",
    "                self.val_scores = list(cv_results[test_key])\n",
    "                \n",
    "                # Atualizar os parâmetros\n",
    "                self.params_history = cv_results['params']\n",
    "                \n",
    "                # Gerar um gráfico final\n",
    "                self._plot_progress(final=True)\n",
    "                \n",
    "                # Verificar overfitting em todas as iterações\n",
    "                for i in range(len(self.train_scores)):\n",
    "                    train_score = self.train_scores[i]\n",
    "                    val_score = self.val_scores[i]\n",
    "                    diff = abs(train_score - val_score)\n",
    "                    is_overfitting = diff > self.threshold * max(abs(train_score), abs(val_score))\n",
    "                    \n",
    "                    if is_overfitting:\n",
    "                        print(f\"\\n⚠️ ALERTA: Possível overfitting detectado na iteração {i+1}!\")\n",
    "                        print(f\"   Treino: {train_score:.4f}, Validação: {val_score:.4f}, Diferença: {diff:.4f}\")\n",
    "        \n",
    "        except Exception as e:\n",
    "            print(f\"Erro ao finalizar métricas: {str(e)}\")\n",
    "    \n",
    "    def _plot_progress(self, final=False):\n",
    "        \"\"\"\n",
    "        Gera e salva gráficos de progresso das métricas.\n",
    "        \n",
    "        Args:\n",
    "            final (bool): Indica se este é o gráfico final com dados completos\n",
    "        \"\"\"\n",
    "        if len(self.val_scores) < 2:\n",
    "            return  # Precisamos de pelo menos dois pontos para plotar\n",
    "        \n",
    "        plt.figure(figsize=(12, 8))\n",
    "        \n",
    "        # Plot das métricas\n",
    "        plt.subplot(2, 1, 1)\n",
    "        iterations = list(range(1, len(self.val_scores) + 1))\n",
    "        \n",
    "        # Plotar scores de validação\n",
    "        plt.plot(iterations, self.val_scores, 'r-', label=f'Validação {self.metric}')\n",
    "        \n",
    "        # Plotar scores de treino se disponíveis (geralmente apenas no gráfico final)\n",
    "        if final and all(score is not None for score in self.train_scores):\n",
    "            plt.plot(iterations, self.train_scores, 'b-', label=f'Treino {self.metric}')\n",
    "        \n",
    "        title = f'Progresso da Otimização: {self.model_name} + {self.scaler_name}'\n",
    "        if final:\n",
    "            title += ' (Final)'\n",
    "        plt.title(title)\n",
    "        plt.xlabel('Iteração')\n",
    "        plt.ylabel(self.metric)\n",
    "        plt.legend()\n",
    "        plt.grid(True)\n",
    "        \n",
    "        # Plot da diferença (para detectar overfitting) - apenas no gráfico final\n",
    "        plt.subplot(2, 1, 2)\n",
    "        if final and all(score is not None for score in self.train_scores):\n",
    "            diff = [abs(t - v) for t, v in zip(self.train_scores, self.val_scores)]\n",
    "            plt.plot(iterations, diff, 'g-', label='|Treino - Validação|')\n",
    "            plt.axhline(y=self.threshold * np.mean(np.abs(self.val_scores)), \n",
    "                       color='r', linestyle='--', \n",
    "                       label=f'Limiar de Overfitting ({self.threshold:.2f})')\n",
    "        else:\n",
    "            # Durante a otimização, apenas mostrar o progresso da validação\n",
    "            plt.plot(iterations, self.val_scores, 'r-', label=f'Validação {self.metric} (Progresso)')\n",
    "        \n",
    "        plt.xlabel('Iteração')\n",
    "        plt.ylabel('Valor')\n",
    "        plt.legend()\n",
    "        plt.grid(True)\n",
    "        \n",
    "        plt.tight_layout()\n",
    "        \n",
    "        # Salvar o gráfico\n",
    "        suffix = \"_final\" if final else f\"_iter{self.iteration}\"\n",
    "        filename = f\"{self.plot_dir}/{self.model_name}_{self.scaler_name}_{self.timestamp}{suffix}.png\"\n",
    "        plt.savefig(filename)\n",
    "        plt.close()\n",
    "        \n",
    "        # Também salvar os dados em CSV para análise posterior\n",
    "        # self._save_metrics_to_csv(final)\n",
    "    \n",
    "    def _save_metrics_to_csv(self, final=False):\n",
    "        \"\"\"\n",
    "        Salva as métricas e parâmetros em um arquivo CSV.\n",
    "        \n",
    "        Args:\n",
    "            final (bool): Indica se este é o CSV final com dados completos\n",
    "        \"\"\"\n",
    "        data = {\n",
    "            'iteration': list(range(1, len(self.val_scores) + 1)),\n",
    "            f'val_{self.metric}': self.val_scores\n",
    "        }\n",
    "        \n",
    "        # Adicionar train_scores apenas se forem válidos\n",
    "        if final and all(score is not None for score in self.train_scores):\n",
    "            data[f'train_{self.metric}'] = self.train_scores\n",
    "            data['diff'] = [abs(t - v) for t, v in zip(self.train_scores, self.val_scores)]\n",
    "        \n",
    "        # Adicionar os parâmetros para cada iteração\n",
    "        for i, params in enumerate(self.params_history):\n",
    "            for key, value in params.items():\n",
    "                if key not in data:\n",
    "                    data[key] = [None] * len(self.val_scores)\n",
    "                if i < len(self.val_scores):  # Garantir que não ultrapasse o tamanho da lista\n",
    "                    data[key][i] = value\n",
    "        \n",
    "        # Salvar o CSV\n",
    "        suffix = \"_final\" if final else f\"_iter{self.iteration}\"\n",
    "        filename = f\"{self.plot_dir}/{self.model_name}_{self.scaler_name}_{self.timestamp}{suffix}.csv\"\n",
    "        pd.DataFrame(data).to_csv(filename, index=False)"
   ]
  },
  {
   "cell_type": "code",
   "execution_count": null,
   "metadata": {},
   "outputs": [],
   "source": [
    "# Declaração de funções\n",
    "\n",
    "\n",
    "def teste_n(df, column_name, alpha=0.05):\n",
    "    \"\"\"\n",
    "    Executa o teste de Kolmogorov-Smirnov para verificar se uma coluna do DataFrame segue uma distribuição normal.\n",
    "\n",
    "    Parâmetros:\n",
    "    -----------\n",
    "    df : pandas.DataFrame\n",
    "        DataFrame contendo os dados.\n",
    "    column_name : str\n",
    "        Nome da coluna a ser testada quanto à normalidade.\n",
    "    alpha : float, opcional\n",
    "        Nível de significância para o teste. O padrão é 0.05 (5%).\n",
    "\n",
    "    Descrição:\n",
    "    ----------\n",
    "    - Normaliza os dados da coluna (subtrai a média e divide pelo desvio padrão).\n",
    "    - Aplica o teste de Kolmogorov-Smirnov comparando com uma distribuição normal padrão.\n",
    "    - Interpreta os resultados com base no p-valor e o nível de significância especificado.\n",
    "    - Exibe uma mensagem informando se a distribuição pode ser considerada normal ou não.\n",
    "\n",
    "    Retorno:\n",
    "    --------\n",
    "    tuple\n",
    "        Uma tupla contendo (estatística do teste, p-valor).\n",
    "\n",
    "    Exemplo de uso:\n",
    "    --------------\n",
    "    stat, p_valor = teste_n(df, 'pv_nafta')\n",
    "    stat, p_valor = teste_n(df, 'pv_nafta', alpha=0.01)  # Usando significância de 1%\n",
    "    \"\"\"\n",
    "    # Executar o teste de Kolmogorov-Smirnov - nesse caso em relação a uma distribuição normal\n",
    "    stat, p_valor = kstest((df[column_name] - np.mean(df[column_name])) / np.std(df[column_name], ddof=1), 'norm')\n",
    "\n",
    "    # Interpretar os resultados\n",
    "    if p_valor > alpha:\n",
    "        print(\"A amostra parece vir de uma distribuição normal (não podemos rejeitar a hipótese nula) p-valor:\", f\"{p_valor:.5f}\")\n",
    "    else:\n",
    "        print(\"A amostra não parece vir de uma distribuição normal (rejeitamos a hipótese nula) p-valor:\", f\"{p_valor:.5f}\")\n",
    "    return float(stat), float(p_valor)\n",
    "\n",
    "def calcula_corr(df):\n",
    "    \"\"\"\n",
    "    Calcula e visualiza a matriz de correlação absoluta entre as variáveis de um DataFrame.\n",
    "\n",
    "    Parâmetros:\n",
    "    -----------\n",
    "    df : pandas.DataFrame\n",
    "        DataFrame contendo os dados para cálculo da correlação.\n",
    "\n",
    "    Descrição:\n",
    "    ----------\n",
    "    - Remove valores NaN do DataFrame antes de calcular as correlações.\n",
    "    - Calcula a matriz de correlação absoluta entre todas as variáveis.\n",
    "    - Cria uma visualização interativa usando Plotly Express.\n",
    "    - Aplica uma escala de cores Viridis para representar a intensidade das correlações.\n",
    "    - Mostra os valores numéricos das correlações com duas casas decimais.\n",
    "\n",
    "    Exemplo de uso:\n",
    "    --------------\n",
    "    calcula_corr(df)\n",
    "    calcula_corr(df[selected_columns])  # Para um subconjunto de colunas\n",
    "    \"\"\"\n",
    "    df_corr = df.dropna().corr().abs()\n",
    "\n",
    "    fig = px.imshow(\n",
    "        img    = df_corr,\n",
    "        color_continuous_scale='Viridis',\n",
    "        width  = 900, # caso não esteja visualizando todas as variáveis, altere esse valor\n",
    "        height = 900, # caso não esteja visualizando todas as variáveis, altere esse valor\n",
    "        text_auto = \".2f\"  # Mostra os valores com 2 casas decimais\n",
    "    )\n",
    "\n",
    "    fig.update_traces(textfont_size=12)  # Altere o valor conforme desejado\n",
    "    fig.show()\n",
    "\n",
    "def pairplot_corr_hm(df, figsize=(12, 12), hist_bins=30, s=10, alpha=0.6):\n",
    "    \"\"\"\n",
    "    Cria um pairplot onde a cor dos pontos é baseada na correlação absoluta entre variáveis\n",
    "    usando uma paleta de cores Viridis.\n",
    "\n",
    "    Parâmetros:\n",
    "    -----------\n",
    "    df : pandas DataFrame\n",
    "        O DataFrame contendo os dados a serem plotados\n",
    "    figsize : tuple, opcional\n",
    "        Tamanho da figura (largura, altura) em polegadas\n",
    "    hist_bins : int, opcional\n",
    "        Número de bins para os histogramas na diagonal\n",
    "    s : int, opcional\n",
    "        Tamanho dos pontos nos gráficos de dispersão\n",
    "    alpha : float, opcional\n",
    "        Nível de transparência dos pontos (0-1)\n",
    "    \"\"\"\n",
    "\n",
    "    # Obter a matriz de correlação absoluta\n",
    "    corr_matrix = df.corr().abs()\n",
    "\n",
    "    # Configurar a normalização de cores para a escala viridis\n",
    "    norm = Normalize(vmin=0, vmax=1)\n",
    "\n",
    "    # Obter as variáveis e o número de variáveis\n",
    "    variables = df.columns\n",
    "    n_vars = len(variables)\n",
    "\n",
    "    # Criar a figura e os subplots\n",
    "    fig, axes = plt.subplots(n_vars, n_vars, figsize=figsize)\n",
    "\n",
    "    # Ajustar o espaçamento entre os subplots\n",
    "    plt.subplots_adjust(wspace=0.2, hspace=0.2)\n",
    "\n",
    "    # Criar os gráficos para cada par de variáveis\n",
    "    for i, var1 in enumerate(variables):\n",
    "        for j, var2 in enumerate(variables):\n",
    "            ax = axes[i, j]\n",
    "\n",
    "            # Remover os ticks dos eixos internos\n",
    "            if i < n_vars - 1:\n",
    "                ax.set_xticks([])\n",
    "            if j > 0:\n",
    "                ax.set_yticks([])\n",
    "\n",
    "            # Se estamos na diagonal, plotar histograma\n",
    "            if i == j:\n",
    "                ax.hist(df[var1], bins=hist_bins, alpha=0.7, color='darkblue')\n",
    "                ax.set_title(var1, fontsize=10)\n",
    "            else:\n",
    "                # Obter a correlação absoluta entre as variáveis\n",
    "                corr_val = corr_matrix.loc[var1, var2]\n",
    "\n",
    "                # Determinar a cor com base na correlação\n",
    "                color = viridis(norm(corr_val))\n",
    "\n",
    "                # Criar o gráfico de dispersão\n",
    "                ax.scatter(df[var2], df[var1], s=s, alpha=alpha, color=color)\n",
    "\n",
    "                # Adicionar a correlação como texto no gráfico\n",
    "                ax.text(0.05, 0.95, f'|ρ|: {corr_val:.2f}',\n",
    "                        transform=ax.transAxes, fontsize=8,\n",
    "                        verticalalignment='top', bbox=dict(boxstyle='round', facecolor='white', alpha=0.7))\n",
    "\n",
    "    # Adicionar os nomes das variáveis apenas nos eixos externos\n",
    "    for i, var in enumerate(variables):\n",
    "        axes[n_vars-1, i].set_xlabel(var, fontsize=10)\n",
    "        axes[i, 0].set_ylabel(var, fontsize=10)\n",
    "\n",
    "    # Adicionar uma barra de cores para referência\n",
    "    cbar_ax = fig.add_axes([0.92, 0.3, 0.02, 0.4])  # [left, bottom, width, height]\n",
    "    cb = plt.colorbar(plt.cm.ScalarMappable(norm=norm, cmap=\"viridis\"), cax=cbar_ax)\n",
    "    cb.set_label('Correlação Absoluta |ρ|')\n",
    "\n",
    "    plt.suptitle('Pairplot com Cores Baseadas na Correlação Absoluta', fontsize=16)\n",
    "    plt.subplots_adjust(left=0.05, right=0.9, top=0.95, bottom=0.05, wspace=0.2, hspace=0.2)\n",
    "\n",
    "def calcula_vif(df,target):\n",
    "    \"\"\"\n",
    "    Calcula o Fator de Inflação da Variância (VIF) para identificar multicolinearidade em variáveis.\n",
    "\n",
    "    Parâmetros:\n",
    "    -----------\n",
    "    df : pandas.DataFrame\n",
    "        DataFrame contendo apenas as variáveis independentes para as quais se deseja calcular o VIF.\n",
    "\n",
    "    Descrição:\n",
    "    ----------\n",
    "    - Adiciona uma constante ao DataFrame para o cálculo correto do VIF.\n",
    "    - Calcula o VIF para cada variável usando a função variance_inflation_factor.\n",
    "    - Ordena os resultados em ordem decrescente para identificar as variáveis mais problemáticas.\n",
    "    - Exibe os resultados das 15 variáveis com maior VIF.\n",
    "\n",
    "    # Retorno:\n",
    "    # --------\n",
    "    # pandas.DataFrame\n",
    "    #     DataFrame contendo as variáveis e seus respectivos valores VIF.\n",
    "\n",
    "    Interpretação:\n",
    "    --------------\n",
    "    - VIF = 1: Ausência de multicolinearidade\n",
    "    - 1 < VIF < 5: Multicolinearidade moderada\n",
    "    - 5 < VIF < 10: Multicolinearidade alta\n",
    "    - VIF > 10: Multicolinearidade muito alta (problemática)\n",
    "\n",
    "    Exemplo de uso:\n",
    "    --------------\n",
    "    vif_df = calcula_vif(df,target)  \n",
    "    \"\"\"\n",
    "    # Remove a coluna da variável target, se existir\n",
    "    X = df.drop(columns=[target]) if target in df.columns else df.copy()\n",
    "    X_with_const = sm.add_constant(X)  # Adicionando uma constante\n",
    "    vif = pd.DataFrame()\n",
    "    vif[\"Variable\"] = X_with_const.columns\n",
    "    vif[\"VIF\"] = [variance_inflation_factor(X_with_const.values, i) for i in range(X_with_const.shape[1])]\n",
    "\n",
    "    vif.set_index('Variable', inplace=True)\n",
    "    # Imprimir VIF em ordem decrescente\n",
    "    print(\"\\nVIF das variáveis (ordem decrescente):\\n\")\n",
    "    print(vif.query(\"Variable != 'const'\").sort_values(by='VIF', ascending=False).head(15).T)\n",
    "\n",
    "    # return vif\n",
    "\n",
    "def plot_boxplot_pdf(df, lower_lim=None, upper_lim=None, n_cols=4):\n",
    "    \"\"\"\n",
    "    Plota boxplot horizontal e PDF (histograma + curva normal) para todas as colunas numéricas do DataFrame.\n",
    "    O layout é de múltiplas linhas e n_cols colunas de subplots: para cada coluna, boxplot em cima, PDF embaixo.\n",
    "\n",
    "    Parâmetros:\n",
    "    -----------\n",
    "    df : pandas.DataFrame\n",
    "        DataFrame contendo os dados.\n",
    "    lower_lim : float, str ou None, opcional\n",
    "        Limite inferior do eixo x. Se None ou 'auto', usa o mínimo dos dados.\n",
    "    upper_lim : float, str ou None, opcional\n",
    "        Limite superior do eixo x. Se None ou 'auto', usa o máximo dos dados.\n",
    "    n_cols : int, opcional\n",
    "        Número de colunas no layout dos subplots. O padrão é 4.\n",
    "\n",
    "    Descrição:\n",
    "    ----------\n",
    "    - Para cada variável numérica, cria dois gráficos alinhados verticalmente:\n",
    "      - Um boxplot horizontal no topo para visualizar a distribuição e outliers\n",
    "      - Um histograma com curva normal teórica abaixo para visualizar a distribuição de frequência\n",
    "    - Adiciona linhas de referência nos gráficos (média, mediana, ±3σ)\n",
    "    - Permite ajustar os limites dos eixos manualmente ou automaticamente\n",
    "    - Remove automaticamente valores NaN antes de plotar\n",
    "\n",
    "    Exemplo de uso:\n",
    "    --------------\n",
    "    plot_boxplot_pdf(df)\n",
    "    plot_boxplot_pdf(df, upper_lim=100, lower_lim=0)  # Define limites fixos para todas as variáveis\n",
    "    plot_boxplot_pdf(df, n_cols=3)  # Altera o número de colunas no layout\n",
    "    \"\"\"\n",
    "\n",
    "    numeric_cols = df.select_dtypes(include=[np.number]).columns\n",
    "    n_vars = len(numeric_cols)\n",
    "    n_rows = int(np.ceil(n_vars / n_cols))\n",
    "\n",
    "    # Dobrar a altura dos plots da PDF (segunda linha de cada variável)\n",
    "    height_ratios = []\n",
    "    for _ in range(n_rows):\n",
    "        height_ratios.extend([1, 4])  # boxplot:1, pdf:4\n",
    "\n",
    "    fig, axes = plt.subplots(\n",
    "        n_rows * 2,\n",
    "        n_cols,\n",
    "        figsize=(6 * n_cols, 5 * n_rows),\n",
    "        gridspec_kw={'height_ratios': height_ratios}\n",
    "    )\n",
    "\n",
    "    axes = np.array(axes).reshape(n_rows * 2, n_cols)\n",
    "\n",
    "    for idx, column in enumerate(numeric_cols):\n",
    "        row = (idx // n_cols) * 2\n",
    "        col = idx % n_cols\n",
    "        data = df[column].dropna()\n",
    "\n",
    "        # Use os valores reais dos dados para garantir que todos os outliers estejam visíveis\n",
    "        data_min = data.min()\n",
    "        data_max = data.max()\n",
    "\n",
    "        # Se upper_lim/lower_lim forem fornecidos, use-os, senão use os valores reais dos dados\n",
    "        if upper_lim is None or (isinstance(upper_lim, str) and upper_lim.lower() == 'auto'):\n",
    "            x_upper = data_max\n",
    "        else:\n",
    "            try:\n",
    "                x_upper = float(upper_lim)\n",
    "            except (ValueError, TypeError):\n",
    "                x_upper = data_max\n",
    "\n",
    "        if lower_lim is None or (isinstance(lower_lim, str) and lower_lim.lower() == 'auto'):\n",
    "            x_lower = data_min\n",
    "        else:\n",
    "            try:\n",
    "                x_lower = float(lower_lim)\n",
    "            except (ValueError, TypeError):\n",
    "                x_lower = data_min\n",
    "\n",
    "        # Para garantir que todos os pontos (inclusive outliers) sejam mostrados, defina os limites do eixo x\n",
    "        # um pouco além dos valores mínimos e máximos reais dos dados\n",
    "        margin = 0.02 * (data_max - data_min) if data_max > data_min else 1\n",
    "        xlim_lower = data_min - margin\n",
    "        xlim_upper = data_max + margin\n",
    "\n",
    "        # Boxplot\n",
    "        ax_box = axes[row, col]\n",
    "        ax_box.boxplot(data, vert=False, patch_artist=True, widths=0.5, showfliers=True)\n",
    "        ax_box.set_xlim(xlim_lower, xlim_upper)\n",
    "        ax_box.set_yticks([])\n",
    "        ax_box.set_xticklabels([])\n",
    "        ax_box.set_title(f'Boxplot de {column}')\n",
    "\n",
    "        # PDF (histograma + curva normal)\n",
    "        ax_pdf = axes[row + 1, col]\n",
    "        ax_pdf.hist(data, bins=30, color='lightblue', edgecolor='black', alpha=0.7, density=True, range=(xlim_lower, xlim_upper))\n",
    "\n",
    "        if len(data) > 1:\n",
    "            media = data.mean()\n",
    "            std = data.std()\n",
    "            x_grid = np.linspace(xlim_lower, xlim_upper, 200)\n",
    "            y_norm = norm.pdf(x_grid, media, std)\n",
    "            ax_pdf.plot(x_grid, y_norm, color='darkblue', lw=2, label='Normal')\n",
    "\n",
    "            mediana = data.median()\n",
    "            # Linhas estatísticas\n",
    "            ax_box.axvline(media, color='blue', linestyle='-', label=f'Média: {media:.1f}')\n",
    "            ax_box.axvline(mediana, color='green', linestyle='--', label=f'Mediana: {mediana:.1f}')\n",
    "            ax_box.axvline(media + 3*std, color='orange', linestyle=':', label=f'+3σ: {(media + 3*std):.1f}')\n",
    "            ax_box.axvline(media - 3*std, color='orange', linestyle=':', label=f'-3σ: {(media - 3*std):.1f}')\n",
    "\n",
    "            ax_pdf.axvline(media, color='blue', linestyle='-', label=f'Média: {media:.1f}')\n",
    "            ax_pdf.axvline(mediana, color='green', linestyle='--', label=f'Mediana: {mediana:.1f}')\n",
    "            ax_pdf.axvline(media + 3*std, color='orange', linestyle=':', label=f'+3σ: {(media + 3*std):.1f}')\n",
    "            ax_pdf.axvline(media - 3*std, color='orange', linestyle=':', label=f'-3σ: {(media - 3*std):.1f}')\n",
    "\n",
    "        ax_pdf.set_xlim(xlim_lower, xlim_upper)\n",
    "        ax_pdf.set_xlabel(column)\n",
    "        ax_pdf.set_ylabel('Densidade')\n",
    "        ax_pdf.set_title(f'PDF de {column}')\n",
    "        ax_pdf.legend(fontsize=8, loc='upper left')\n",
    "\n",
    "    # Remove subplots vazios\n",
    "    total_plots = n_rows * n_cols\n",
    "    for idx in range(n_vars, total_plots):\n",
    "        for r in [0, 1]:\n",
    "            fig.delaxes(axes[(idx // n_cols) * 2 + r, idx % n_cols])\n",
    "\n",
    "    plt.tight_layout(h_pad=2.5)\n",
    "    plt.show()\n",
    "\n",
    "def plot_boxplot_pdf_indiv(df, column, lower_lim=None, upper_lim=None):\n",
    "    \"\"\"\n",
    "    Plota boxplot horizontal e PDF (histograma + curva normal) para uma coluna numérica do DataFrame.\n",
    "\n",
    "    Parâmetros:\n",
    "    -----------\n",
    "    df : pandas.DataFrame\n",
    "        DataFrame contendo os dados.\n",
    "    column : str\n",
    "        Nome da coluna a ser plotada.\n",
    "    lower_lim : float, str ou None, opcional\n",
    "        Limite inferior do eixo x. Se None ou 'auto', usa o mínimo dos dados.\n",
    "    upper_lim : float, str ou None, opcional\n",
    "        Limite superior do eixo x. Se None ou 'auto', usa o máximo dos dados.\n",
    "    \"\"\"\n",
    "\n",
    "    data = df[column].dropna()\n",
    "    data_min = data.min()\n",
    "    data_max = data.max()\n",
    "\n",
    "    # Processamento dos limites\n",
    "    if upper_lim is None or (isinstance(upper_lim, str) and upper_lim.lower() == 'auto'):\n",
    "        x_upper = data_max\n",
    "    else:\n",
    "        try:\n",
    "            x_upper = float(upper_lim)\n",
    "        except (ValueError, TypeError):\n",
    "            x_upper = data_max\n",
    "\n",
    "    if lower_lim is None or (isinstance(lower_lim, str) and lower_lim.lower() == 'auto'):\n",
    "        x_lower = data_min\n",
    "    else:\n",
    "        try:\n",
    "            x_lower = float(lower_lim)\n",
    "        except (ValueError, TypeError):\n",
    "            x_lower = data_min\n",
    "\n",
    "    # Margem para visualização\n",
    "    margin = 0.02 * (data_max - data_min) if data_max > data_min else 1\n",
    "\n",
    "    # Usar os limites definidos pelo usuário quando fornecidos\n",
    "    xlim_lower = x_lower if lower_lim is not None and lower_lim != 'auto' else data_min - margin\n",
    "    xlim_upper = x_upper if upper_lim is not None and upper_lim != 'auto' else data_max + margin\n",
    "\n",
    "    fig, axes = plt.subplots(2, 1, figsize=(8, 6), gridspec_kw={'height_ratios': [1, 4]})\n",
    "\n",
    "    # Boxplot\n",
    "    ax_box = axes[0]\n",
    "    ax_box.boxplot(data, vert=False, patch_artist=True, widths=0.5, showfliers=True)\n",
    "    ax_box.set_xlim(xlim_lower, xlim_upper)\n",
    "    ax_box.set_yticks([])\n",
    "    ax_box.set_xticklabels([])\n",
    "    ax_box.set_title(f'Boxplot de {column}')\n",
    "\n",
    "    # PDF (histograma + curva normal)\n",
    "    ax_pdf = axes[1]\n",
    "\n",
    "    # Ajustar o range do histograma para os limites definidos\n",
    "    hist_range = (xlim_lower, xlim_upper)\n",
    "    ax_pdf.hist(data, bins=30, color='lightblue', edgecolor='black', alpha=0.7, density=True, range=hist_range)\n",
    "\n",
    "    if len(data) > 1:\n",
    "        media = data.mean()\n",
    "        std = data.std()\n",
    "        mediana = data.median()\n",
    "\n",
    "        # Usar os limites definidos para o grid da curva normal\n",
    "        x_grid = np.linspace(xlim_lower, xlim_upper, 200)\n",
    "        y_norm = norm.pdf(x_grid, media, std)\n",
    "        ax_pdf.plot(x_grid, y_norm, color='darkblue', lw=2, label='Normal')\n",
    "\n",
    "        # Linhas estatísticas\n",
    "        ax_box.axvline(media, color='blue', linestyle='-', label=f'Média: {media:.1f}')\n",
    "        ax_box.axvline(mediana, color='green', linestyle='--', label=f'Mediana: {mediana:.1f}')\n",
    "        ax_box.axvline(media + 3*std, color='orange', linestyle=':', label=f'+3σ: {(media + 3*std):.1f}')\n",
    "        ax_box.axvline(media - 3*std, color='orange', linestyle=':', label=f'-3σ: {(media - 3*std):.1f}')\n",
    "\n",
    "        ax_pdf.axvline(media, color='blue', linestyle='-', label=f'Média: {media:.1f}')\n",
    "        ax_pdf.axvline(mediana, color='green', linestyle='--', label=f'Mediana: {mediana:.1f}')\n",
    "        ax_pdf.axvline(media + 3*std, color='orange', linestyle=':', label=f'+3σ: {(media + 3*std):.1f}')\n",
    "        ax_pdf.axvline(media - 3*std, color='orange', linestyle=':', label=f'-3σ: {(media - 3*std):.1f}')\n",
    "\n",
    "    ax_pdf.set_xlim(xlim_lower, xlim_upper)\n",
    "    ax_pdf.set_xlabel(column)\n",
    "    ax_pdf.set_ylabel('Densidade')\n",
    "    ax_pdf.set_title(f'PDF de {column}')\n",
    "    ax_pdf.legend(fontsize=8, loc='upper left')\n",
    "\n",
    "    plt.tight_layout(h_pad=2.5)\n",
    "    plt.show()\n",
    "\n",
    "def subplot_serie_hist(df, n_cols=3):\n",
    "    \"\"\"\n",
    "    Plota múltiplas séries temporais em subplots com linhas de referência estatísticas.\n",
    "\n",
    "    Parâmetros:\n",
    "    -----------\n",
    "    df : pandas.DataFrame\n",
    "        DataFrame contendo os dados das séries temporais.\n",
    "    n_cols : int, opcional\n",
    "        Número de colunas no layout dos subplots. O padrão é 3.\n",
    "\n",
    "    Descrição:\n",
    "    ----------\n",
    "    - Cria uma grade de subplots para visualizar múltiplas séries temporais simultaneamente.\n",
    "    - Para cada variável, adiciona linhas de referência estatísticas (mínimo, máximo, limites do IQR).\n",
    "    - Organiza os gráficos em uma grade de n_cols colunas, calculando automaticamente o número de linhas necessárias.\n",
    "    - Adiciona títulos correspondentes aos nomes das colunas do DataFrame.\n",
    "\n",
    "    Exemplo de uso:\n",
    "    --------------\n",
    "    subplot_serie_hist(df)  # Plota todas as colunas do DataFrame\n",
    "    subplot_serie_hist(df[['pv_nafta', 'f_carg_nafta']], n_cols=2)  # Plota apenas as colunas selecionadas\n",
    "    \"\"\"\n",
    "\n",
    "    n_vars = len(df.columns)\n",
    "    n_rows = math.ceil(n_vars / n_cols)\n",
    "\n",
    "    fig = make_subplots(rows=n_rows, cols=n_cols, subplot_titles=df.columns)\n",
    "\n",
    "    for idx, col in enumerate(df.columns):\n",
    "        row = idx // n_cols + 1\n",
    "        col_idx = idx % n_cols + 1\n",
    "\n",
    "        # Usa a lógica do serie_hist: plota a linha e adiciona linhas de referência (opcional)\n",
    "        trace = px.line(df, y=col).data[0]\n",
    "        fig.add_trace(trace, row=row, col=col_idx)\n",
    "\n",
    "        # Adiciona linhas de referência (mínimo, máximo, IQR) igual ao serie_hist\n",
    "        min_value = df[col].min()\n",
    "        max_value = df[col].max()\n",
    "        q1 = df[col].quantile(0.25)\n",
    "        q3 = df[col].quantile(0.75)\n",
    "        iqr = q3 - q1\n",
    "        loval = q1 - (1.5 * iqr)\n",
    "        hival = q3 + (1.5 * iqr)\n",
    "\n",
    "        fig.add_shape(type='line', x0=df.index.min(), y0=min_value, x1=df.index.max(), y1=min_value,\n",
    "                    line=dict(color='gray', width=1, dash='dash'), row=row, col=col_idx)\n",
    "        fig.add_shape(type='line', x0=df.index.min(), y0=max_value, x1=df.index.max(), y1=max_value,\n",
    "                    line=dict(color='gray', width=1, dash='dash'), row=row, col=col_idx)\n",
    "        fig.add_shape(type='line', x0=df.index.min(), y0=loval, x1=df.index.max(), y1=loval,\n",
    "                    line=dict(color='orange', width=1, dash='dash'), row=row, col=col_idx)\n",
    "        fig.add_shape(type='line', x0=df.index.min(), y0=hival, x1=df.index.max(), y1=hival,\n",
    "                    line=dict(color='orange', width=1, dash='dash'), row=row, col=col_idx)\n",
    "\n",
    "    # Adicionar uma legenda única para todas as linhas de referência\n",
    "    fig.add_trace(\n",
    "        go.Scatter(x=[None], y=[None], mode='lines', line=dict(color='gray', width=1, dash='dash'),\n",
    "                  name='Min/Max', showlegend=True),\n",
    "        row=1, col=1\n",
    "    )\n",
    "    fig.add_trace(\n",
    "        go.Scatter(x=[None], y=[None], mode='lines', line=dict(color='orange', width=1, dash='dash'),\n",
    "                  name='IQR Limits (±1.5*IQR)', showlegend=True),\n",
    "        row=1, col=1\n",
    "    )\n",
    "\n",
    "    fig.update_layout(\n",
    "        height=250*n_rows,\n",
    "        width=450*n_cols,\n",
    "        showlegend=True,\n",
    "        title_text=\"Séries Temporais das Variáveis\",\n",
    "        legend=dict(\n",
    "            orientation=\"h\",\n",
    "            yanchor=\"bottom\",\n",
    "            y=1.02,\n",
    "            xanchor=\"right\",\n",
    "            x=1\n",
    "        )\n",
    "    )\n",
    "    fig.show()\n",
    "\n",
    "def rmse_score(y_true, y_pred):\n",
    "    return np.sqrt(mean_squared_error(y_true, y_pred))\n",
    "\n",
    "# DataFrame unificado para armazenar todas as métricas dos modelos\n",
    "# Será usado para baseline, otimização de hiperparâmetros e comparação final\n",
    "\n",
    "# Estrutura do DataFrame unificado\n",
    "results_columns = [\n",
    "    'model_name',           # Nome do algoritmo (LinearRegression, Ridge, etc.)\n",
    "    'scaler',               # Tipo de scaler (sem_normalizacao, minmax, standard)\n",
    "    'hyperparams',          # Hiperparâmetros usados (para baseline será 'default')\n",
    "    'optimization_method',  # Método de otimização (baseline, grid_search, random_search, etc.)\n",
    "    'r2_train_mean',        # R² médio no treino\n",
    "    'r2_train_std',         # Desvio padrão do R² no treino\n",
    "    'r2_cv_mean',           # R² médio na validação cruzada\n",
    "    'r2_cv_std',            # Desvio padrão do R² na validação cruzada\n",
    "    'mse_train_mean',       # MSE médio no treino\n",
    "    'mse_train_std',        # Desvio padrão do MSE no treino\n",
    "    'mse_cv_mean',          # MSE médio na validação cruzada\n",
    "    'mse_cv_std',           # Desvio padrão do MSE na validação cruzada\n",
    "    'rmse_train_mean',      # RMSE médio no treino\n",
    "    'rmse_train_std',       # Desvio padrão do RMSE no treino\n",
    "    'rmse_cv_mean',         # RMSE médio na validação cruzada\n",
    "    'rmse_cv_std',          # Desvio padrão do RMSE na validação cruzada\n",
    "    # 'mae_train_mean',       # MAE médio no treino\n",
    "    # 'mae_train_std',        # Desvio padrão do MAE no treino\n",
    "    # 'mae_cv_mean',          # MAE médio na validação cruzada\n",
    "    # 'mae_cv_std',           # Desvio padrão do MAE na validação cruzada\n",
    "    'fit_time_mean',        # Tempo médio de treinamento\n",
    "    'fit_time_std',         # Desvio padrão do tempo de treinamento\n",
    "    'score_time_mean',      # Tempo médio de predição\n",
    "    'score_time_std',       # Desvio padrão do tempo de predição\n",
    "    'experiment_date'       # Data/hora do experimento\n",
    "]\n",
    "\n",
    "# Inicializar DataFrame unificado\n",
    "all_results_df = pd.DataFrame(columns=results_columns)\n",
    "\n",
    "# Função para adicionar resultados ao DataFrame unificado\n",
    "def add_results_to_df(df, model_name, scaler_name, cv_results, hyperparams='default', optimization_method='baseline'):\n",
    "    \"\"\"\n",
    "    Adiciona resultados de validação cruzada ao DataFrame unificado.\n",
    "    \n",
    "    Parameters:\n",
    "    -----------\n",
    "    df : pandas.DataFrame\n",
    "        DataFrame unificado onde os resultados serão adicionados\n",
    "    model_name : str\n",
    "        Nome do modelo (ex: 'LinearRegression', 'Ridge')\n",
    "    scaler_name : str\n",
    "        Nome do scaler (ex: 'sem_normalizacao', 'minmax', 'standard')\n",
    "    cv_results : dict\n",
    "        Resultados da validação cruzada do sklearn\n",
    "    hyperparams : str ou dict\n",
    "        Hiperparâmetros utilizados\n",
    "    optimization_method : str\n",
    "        Método de otimização utilizado\n",
    "    \n",
    "    Returns:\n",
    "    --------\n",
    "    pandas.DataFrame\n",
    "        DataFrame atualizado com os novos resultados\n",
    "    \"\"\"\n",
    "    from datetime import datetime\n",
    "    \n",
    "    # Converter hiperparâmetros para string se for dict\n",
    "    if isinstance(hyperparams, dict):\n",
    "        hyperparams_str = str(hyperparams)\n",
    "    else:\n",
    "        hyperparams_str = hyperparams\n",
    "    \n",
    "    # Criar novo registro\n",
    "    new_row = {\n",
    "        'model_name': model_name,\n",
    "        'scaler': scaler_name,\n",
    "        'hyperparams': hyperparams_str,\n",
    "        'optimization_method': optimization_method,\n",
    "        'r2_train_mean': cv_results['train_r2'].mean(),\n",
    "        'r2_train_std': cv_results['train_r2'].std(),\n",
    "        'r2_cv_mean': cv_results['test_r2'].mean(),\n",
    "        'r2_cv_std': cv_results['test_r2'].std(),\n",
    "        'mse_train_mean': -cv_results['train_mse'].mean(),\n",
    "        'mse_train_std': cv_results['train_mse'].std(),\n",
    "        'mse_cv_mean': -cv_results['test_mse'].mean(),\n",
    "        'mse_cv_std': cv_results['test_mse'].std(),\n",
    "        'rmse_train_mean': -cv_results['train_rmse'].mean(),\n",
    "        'rmse_train_std': cv_results['train_rmse'].std(),\n",
    "        'rmse_cv_mean': -cv_results['test_rmse'].mean(),\n",
    "        'rmse_cv_std': cv_results['test_rmse'].std(),\n",
    "        'mae_train_mean': -cv_results['train_mae'].mean(),\n",
    "        'mae_train_std': cv_results['train_mae'].std(),\n",
    "        'mae_cv_mean': -cv_results['test_mae'].mean(),\n",
    "        'mae_cv_std': cv_results['test_mae'].std(),\n",
    "        'fit_time_mean': cv_results['fit_time'].mean(),\n",
    "        'fit_time_std': cv_results['fit_time'].std(),\n",
    "        'score_time_mean': cv_results['score_time'].mean(),\n",
    "        'score_time_std': cv_results['score_time'].std(),\n",
    "        'experiment_date': datetime.now().strftime('%Y-%m-%d %H:%M:%S')\n",
    "    }\n",
    "    \n",
    "    # Adicionar ao DataFrame usando pd.concat (mais eficiente que append)\n",
    "    new_row_df = pd.DataFrame([new_row])\n",
    "    updated_df = pd.concat([df, new_row_df], ignore_index=True)\n",
    "    \n",
    "    return updated_df\n",
    "\n",
    "# Função para exibir resumo do DataFrame\n",
    "def display_results_summary(df, top_n=10, metric='r2_cv_mean'):\n",
    "    \"\"\"\n",
    "    Exibe resumo dos resultados ordenados por uma métrica específica.\n",
    "    \n",
    "    Parameters:\n",
    "    -----------\n",
    "    df : pandas.DataFrame\n",
    "        DataFrame com os resultados\n",
    "    top_n : int\n",
    "        Número de melhores modelos a exibir\n",
    "    metric : str\n",
    "        Métrica para ordenação (padrão: 'r2_cv_mean')\n",
    "    \"\"\"\n",
    "    if df.empty:\n",
    "        print(\"DataFrame de resultados está vazio.\")\n",
    "        return\n",
    "    \n",
    "    # Ordenar por métrica (descendente para R², ascendente para erros)\n",
    "    ascending = metric.startswith(('mse', 'rmse', 'mae', 'fit_time', 'score_time'))\n",
    "    sorted_df = df.sort_values(by=metric, ascending=ascending)\n",
    "    \n",
    "    print(f\"\\n{'='*100}\")\n",
    "    print(f\"TOP {top_n} MODELOS - Ordenados por {metric.upper()}\")\n",
    "    print(f\"{'='*100}\")\n",
    "    \n",
    "    # Colunas principais para exibir\n",
    "    display_cols = ['model_name', 'scaler', 'optimization_method', \n",
    "                   'r2_train_mean', 'r2_cv_mean',\n",
    "                   'rmse_train_mean', 'rmse_cv_mean', 'fit_time_mean']\n",
    "    \n",
    "\n",
    "    # Verificar quais colunas existem\n",
    "    available_cols = [col for col in display_cols if col in df.columns]\n",
    "    \n",
    "    print(sorted_df[available_cols].head(top_n).round(4).to_string(index=False))\n",
    "    \n",
    "    # Estatísticas gerais\n",
    "    print(f\"\\n{'='*50}\")\n",
    "    print(\"ESTATÍSTICAS GERAIS:\")\n",
    "    print(f\"{'='*50}\")\n",
    "    print(f\"Total de experimentos: {len(df)}\")\n",
    "    print(f\"Modelos únicos testados: {df['model_name'].nunique()}\")\n",
    "    print(f\"Scalers testados: {df['scaler'].nunique()}\")\n",
    "    print(f\"Métodos de otimização: {df['optimization_method'].nunique()}\")\n",
    "    \n",
    "    if not df.empty:\n",
    "        best_result = sorted_df.iloc[0]\n",
    "        print(f\"\\nMelhor resultado:\")\n",
    "        print(f\"- Modelo: {best_result['model_name']}\")\n",
    "        print(f\"- Scaler: {best_result['scaler']}\")\n",
    "        print(f\"- Método: {best_result['optimization_method']}\")\n",
    "        print(f\"- {metric}: {best_result[metric]:.4f}\")\n",
    "\n",
    "print(\"DataFrame unificado criado com sucesso!\")\n",
    "print(f\"Colunas disponíveis: {len(results_columns)}\")\n",
    "print(\"Funções auxiliares criadas:\")\n",
    "print(\"- add_results_to_df(): Adiciona resultados ao DataFrame\")\n",
    "print(\"- display_results_summary(): Exibe resumo dos resultados\")\n",
    "\n",
    "def print_metrics_table(model_name, scaler_name, cv_results):\n",
    "    # Preparar os dados da tabela\n",
    "    headers = [\"Métrica\", \"Treino (média ± desvio)\", \"CV (média ± desvio)\"]\n",
    "    \n",
    "    table_data = [\n",
    "        [\"R²\", f\"{cv_results['train_r2'].mean():.4f} (±{cv_results['train_r2'].std():.4f})\", \n",
    "               f\"{cv_results['test_r2'].mean():.4f} (±{cv_results['test_r2'].std():.4f})\"],\n",
    "        [\"RMSE\", f\"{-cv_results['train_rmse'].mean():.4f} (±{cv_results['train_rmse'].std():.4f})\", \n",
    "                f\"{-cv_results['test_rmse'].mean():.4f} (±{cv_results['test_rmse'].std():.4f})\"]\n",
    "    ]\n",
    "    \n",
    "    # Imprimir a tabela\n",
    "    print(f\"\\nModelo: {model_name.upper()} com Scaler: {scaler_name}\")\n",
    "    print(tabulate(table_data, headers=headers, tablefmt=\"grid\"))\n",
    "\n",
    "def display_results_summary_median(summary_df, fold_scores_df, top_n=10, metric='r2'):\n",
    "    \"\"\"\n",
    "    Exibe resumo dos resultados ordenados pela MEDIANA de uma métrica específica.\n",
    "    \n",
    "    Parameters:\n",
    "    -----------\n",
    "    summary_df : pandas.DataFrame\n",
    "        DataFrame com os resultados agregados (médias, etc.).\n",
    "    fold_scores_df : pandas.DataFrame\n",
    "        DataFrame com os scores de cada fold individual (ex: boxplot_df).\n",
    "    top_n : int\n",
    "        Número de melhores modelos a exibir.\n",
    "    metric : str\n",
    "        Métrica base para ordenação (ex: 'r2', 'rmse').\n",
    "    \"\"\"\n",
    "    if summary_df.empty or fold_scores_df.empty:\n",
    "        print(\"Um dos DataFrames de resultados está vazio.\")\n",
    "        return\n",
    "\n",
    "    # 1. Calcular a mediana dos scores de teste (CV) para cada grupo\n",
    "    metric_col = f'{metric}_score'\n",
    "    \n",
    "    # Filtrar apenas os scores de Teste (CV)\n",
    "    cv_scores = fold_scores_df[fold_scores_df['type'] == 'Test (CV)'].copy()\n",
    "\n",
    "    # Calcular a mediana\n",
    "    median_scores = cv_scores.groupby(['model_name', 'scaler'])[metric_col].median().reset_index()\n",
    "    median_col_name = f'{metric}_cv_median'\n",
    "    median_scores.rename(columns={metric_col: median_col_name}, inplace=True)\n",
    "\n",
    "    # 2. Juntar a mediana ao DataFrame de resumo\n",
    "    # Apenas para os modelos otimizados, que são os que têm scores de fold\n",
    "    merged_df = pd.merge(\n",
    "        summary_df[summary_df['optimization_method'] == 'bayes_search'],\n",
    "        median_scores,\n",
    "        on=['model_name', 'scaler'],\n",
    "        how='left'\n",
    "    )\n",
    "\n",
    "    # 3. Ordenar e exibir\n",
    "    ascending = metric.startswith(('mse', 'rmse', 'mae'))\n",
    "    sorted_df = merged_df.sort_values(by=median_col_name, ascending=ascending)\n",
    "    \n",
    "    print(f\"\\n{'='*110}\")\n",
    "    print(f\"TOP {top_n} MODELOS OTIMIZADOS - Ordenados pela MEDIANA de {metric.upper()}_CV\")\n",
    "    print(f\"{'='*110}\")\n",
    "    \n",
    "    # Colunas para exibir\n",
    "    display_cols = ['model_name', 'scaler', median_col_name, f'{metric}_cv_mean', 'fit_time_mean']\n",
    "    \n",
    "    # Verificar se as colunas existem\n",
    "    available_cols = [col for col in display_cols if col in sorted_df.columns]\n",
    "    \n",
    "    print(sorted_df[available_cols].head(top_n).round(4).to_string(index=False))\n",
    "\n",
    "def prepare_early_stopping_params(model_name, X_train, y_train, early_stopping_rounds=25):\n",
    "    \"\"\"\n",
    "    Prepara fit_params para permitir early stopping em regressors que suportam eval_set.\n",
    "    Retorna (fit_params, X_train_fit_np, y_train_fit_np).\n",
    "\n",
    "    - model_name: nome do modelo (string) usado para decidir parâmetros específicos.\n",
    "    - val_size: fração para validação interna.\n",
    "    - early_stopping_rounds: número de rounds sem melhoria para disparar a parada antecipada.\n",
    "    \"\"\"\n",
    "    X_train_fit, X_val, y_train_fit, y_val = train_test_split(\n",
    "        X_train, y_train, test_size=SPLIT, random_state=SEED\n",
    "    )\n",
    "\n",
    "    # Converter para numpy arrays (evita problemas com nomes de colunas no eval_set)\n",
    "    X_train_fit_np = X_train_fit.values if isinstance(X_train_fit, pd.DataFrame) else np.asarray(X_train_fit)\n",
    "    y_train_fit_np = y_train_fit.values if isinstance(y_train_fit, (pd.Series, pd.DataFrame)) else np.asarray(y_train_fit)\n",
    "    X_val_np = X_val.values if isinstance(X_val, pd.DataFrame) else np.asarray(X_val)\n",
    "    y_val_np = y_val.values if isinstance(y_val, (pd.Series, pd.DataFrame)) else np.asarray(y_val)\n",
    "\n",
    "    fit_params = {}\n",
    "\n",
    "    name = model_name.lower()\n",
    "\n",
    "    # LightGBM\n",
    "    if \"lightgbm\" in name or \"lgb\" in name or \"lgbm\" in name:\n",
    "        fit_params = {\n",
    "            # \"regressor__eval_set\": [(X_val_np, y_val_np)],\n",
    "            \"regressor__callbacks\": [\n",
    "                    lgb.early_stopping(\n",
    "                            stopping_rounds=early_stopping_rounds,\n",
    "                            first_metric_only=True,\n",
    "                            verbose=True),\n",
    "                    lgb.log_evaluation(period=100),\n",
    "                    lgb.record_evaluation({})\n",
    "            ]\n",
    "        }\n",
    "    # CatBoost\n",
    "    elif \"catboost\" in name or \"cat\" in name:\n",
    "        fit_params = {\n",
    "            \"regressor__eval_set\": [(X_val_np, y_val_np)],\n",
    "            \"regressor__early_stopping_rounds\": early_stopping_rounds,\n",
    "            \"regressor__verbose\": False,\n",
    "            # CatBoost detecta métrica automaticamente, mas pode-se passar 'eval_metric' se desejado\n",
    "        }\n",
    "    else:\n",
    "        # Modelos que não suportam early stopping (ou não configurados aqui)\n",
    "        fit_params = {}\n",
    "\n",
    "    return fit_params, X_train_fit_np, y_train_fit_np"
   ]
  },
  {
   "cell_type": "markdown",
   "metadata": {
    "id": "N91bTLbiBxrm"
   },
   "source": [
    "# 3. Dados: entendimento, carga e qualidade\n",
    "\n",
    "O dataset **Pressão de Vapor da nafta** é um conjunto de dados previamente tratado na SPRINT de Análise de Dados e Boas Práticas. \n",
    "\n",
    "Esse dataset já passou por vários tratamentos, dentre eles os de valores nulos, faltantes e de outliers. \n",
    "\n",
    "Será necessária uma breve análise exploratória dos dados de forma a torná-lo uma fonte de dados ainda mais curada para o uso."
   ]
  },
  {
   "cell_type": "markdown",
   "metadata": {
    "id": "FC6QJHhWBnzH"
   },
   "source": [
    "## 3.1. Atributos do dataset\n",
    "\n",
    "O dataset Pressão de Vapor de nafta pode ser assim resumido:\n",
    "\n",
    "***pv_nafta***: pressão de vapor da nafta (unidade de pressão)<br>\n",
    "***t_carg_nafta***: temperatura da carga da fracionadora de nafta (unidade de temperatura)<br>\n",
    "***t_fund_nafta***: temperatura do fundo da fracionadora de nafta (unidade de temperatura)<br>\n",
    "***t_aque_nafta***: temperatura do aquecedor de fundo da fracionadora de nafta (unidade de temperatura)<br>\n",
    "***t_esup_nafta***: temperatura estágio superior interno da fracionadora de nafta (unidade de temperatura)<br>\n",
    "***t_eint_nafta***: temperatura estágio intermediário interno da fracionadora de nafta (unidade de temperatura)<br>\n",
    "***t_einf_nafta***: temperatura estágio inferior interno da fracionadora de nafta (unidade de temperatura)<br>\n",
    "***t_topo_nafta***: temperatura de topo da fracionadora de nafta (unidade de temperatura)<br>\n",
    "***t_lhtp_nafta***: temperatura da linha de topo da fracionadora de nafta (unidade de temperatura)<br>\n",
    "***p_topo_nafta***: pressão de topo da fracionadora de nafta (unidade de pressão)<br>\n",
    "***f_carg_nafta***: vazão de carga da fracionadora de nafta (volume por unidade de tempo)<br>\n",
    "***f_refl_nafta***: vazão de refluxo de topo da fracionadora de nafta (volume por unidade de tempo)<br>"
   ]
  },
  {
   "cell_type": "markdown",
   "metadata": {
    "id": "nyEV4wQUosGG"
   },
   "source": [
    "## 3.2. Carregamento do dataset"
   ]
  },
  {
   "cell_type": "code",
   "execution_count": null,
   "metadata": {
    "colab": {
     "base_uri": "https://localhost:8080/",
     "height": 226
    },
    "id": "RCPbhofsE59F",
    "outputId": "8e570c63-05ca-4141-9018-4fcfb0cfa356"
   },
   "outputs": [],
   "source": [
    "url = \"https://github.com/fdamata_petro/pucrj-analisededados-mvp-ml/raw/refs/heads/main/dataset_pv_nafta_ml.xlsx\"\n",
    "url = 'dataset_pv_nafta_ml.xlsx'\n",
    "\n",
    "\n",
    "df = pd.read_excel(url) # Carregamento do dataset\n",
    "df.head() # Imprime as primeiras linhas do dataset"
   ]
  },
  {
   "cell_type": "markdown",
   "metadata": {
    "id": "XcHpQ9s_B4n1"
   },
   "source": [
    "## 3.3. Análise de dados\n",
    "\n",
    "Nesta etapa buscamos entender a distribuição, as relações e as características das variáveis, o que é crucial para as etapas subsequentes."
   ]
  },
  {
   "cell_type": "markdown",
   "metadata": {
    "id": "5kuan1F5EA8J"
   },
   "source": [
    "### 3.3.1. Total e tipo dos atributos"
   ]
  },
  {
   "cell_type": "code",
   "execution_count": null,
   "metadata": {
    "colab": {
     "base_uri": "https://localhost:8080/"
    },
    "id": "3asH5qmbHKVe",
    "outputId": "dc89ca4b-20c0-4fa2-86a4-25563fdd7431"
   },
   "outputs": [],
   "source": [
    "print(f\"Total de instâncias: {len(df)}\")\n",
    "\n",
    "tags = df.columns.to_list()\n",
    "\n",
    "# Definição de que a variável dependente está na primeira coluna\n",
    "target = tags[0]\n",
    "inputs = [tag for tag in tags if tag != target]\n",
    "\n",
    "print(f'Num. de atributos: {len(tags)}')\n",
    "# Separação entre variável dependente (target) e independentes (inputs)\n",
    "print(f'target = {target}')\n",
    "print(f'inputs = {inputs}')\n",
    "# print(f'Num. inputs = {len(inputs)}')\n",
    "\n",
    "print(\"\\nTipos de dados por coluna:\\n\")\n",
    "\n",
    "print(df.info())"
   ]
  },
  {
   "cell_type": "markdown",
   "metadata": {
    "id": "PqU2LmS7osGH"
   },
   "source": [
    "O dataset possui 906 observações. Os doze (12) atributos são de tipo numérico (float)."
   ]
  },
  {
   "cell_type": "markdown",
   "metadata": {
    "id": "xDmFNxPdosGH"
   },
   "source": [
    "### 3.3.2. Análise de comportamento temporal\n",
    "\n",
    "O objetivo é observar o comportamento das variáveis ao longo do tempo."
   ]
  },
  {
   "cell_type": "code",
   "execution_count": null,
   "metadata": {
    "colab": {
     "base_uri": "https://localhost:8080/",
     "height": 1000
    },
    "id": "5Mhv3gRWosGH",
    "outputId": "2ed4fed1-f385-48e7-faca-17c387b6c976"
   },
   "outputs": [],
   "source": [
    "subplot_serie_hist(df, n_cols=3)"
   ]
  },
  {
   "cell_type": "markdown",
   "metadata": {
    "id": "6Gxh5bzdosGH"
   },
   "source": [
    "É possível observar oscilações atípicas, mas nesse contexto podem voltar a repetir de entendemos ser necessário tentar capturar esse tipo de contribuição na previsão da propriedade."
   ]
  },
  {
   "cell_type": "markdown",
   "metadata": {
    "id": "M-bS4g_ECPoP"
   },
   "source": [
    "### 3.3.3. Estatísticas Descritivas\n",
    "\n",
    "Estatísticas descritivas fornecem um resumo das características numéricas, incluindo média, desvio padrão, mínimo, máximo e quartis."
   ]
  },
  {
   "cell_type": "code",
   "execution_count": null,
   "metadata": {
    "colab": {
     "base_uri": "https://localhost:8080/"
    },
    "id": "fTCOuOolC_rG",
    "outputId": "15ae95de-eb40-4666-b92c-06b22758a9ff"
   },
   "outputs": [],
   "source": [
    "# estasticas descritivas básicas do dataset\n",
    "df_descr = df.describe()\n",
    "print('Estatísticas descritivas:\\n')\n",
    "# Exibe as estatísticas descritivas transpostas com floats formatados para 2 casas decimais\n",
    "with pd.option_context('display.float_format', '{:.2f}'.format):\n",
    "    print(df_descr.T)"
   ]
  },
  {
   "cell_type": "code",
   "execution_count": null,
   "metadata": {
    "colab": {
     "base_uri": "https://localhost:8080/",
     "height": 1000
    },
    "id": "AdLn_LnxosGM",
    "outputId": "fbb3eb18-617e-40b9-fab6-38d29843e311"
   },
   "outputs": [],
   "source": [
    "plot_boxplot_pdf(df, n_cols=4)"
   ]
  },
  {
   "cell_type": "markdown",
   "metadata": {
    "id": "DmMjjsADosGM"
   },
   "source": [
    "É possível observar que nas unidades de engenharia utilizadas não há um único padrão para todas as distribuições.<br>\n",
    "Há algumas distribuições que aparentam a normalidade, mas que requerem avaliação específica para avaliação das hipóteses."
   ]
  },
  {
   "cell_type": "code",
   "execution_count": null,
   "metadata": {
    "colab": {
     "base_uri": "https://localhost:8080/"
    },
    "id": "ldDSqg7WosGM",
    "outputId": "7c388b1b-37fa-4a72-ac81-ea6318dbf995"
   },
   "outputs": [],
   "source": [
    "# Loop para aplicar a função teste_n em todas as colunas do DataFrame\n",
    "print(\"Teste de normalidade para todas as variáveis:\")\n",
    "print(\"=\" * 60)\n",
    "\n",
    "normality_results = {}\n",
    "for col in df.columns:\n",
    "    print(f\"Variável: '{col}'\")\n",
    "    _, p_valor = teste_n(df, col)\n",
    "    normality_results[col] = \"Normal\" if p_valor > 0.05 else \"Não normal\"\n",
    "    print(\"-\" * 60)\n",
    "\n",
    "# Criar um DataFrame com os resultados para melhor visualização\n",
    "normality_df = pd.DataFrame.from_dict(normality_results, orient='index', columns=['Distribuição'])\n",
    "print(\"\\nResumo dos testes de normalidade:\")\n",
    "print(normality_df)\n",
    "\n",
    "# Calcular a proporção de variáveis com distribuição normal\n",
    "normal_count = sum(1 for status in normality_results.values() if status == \"Normal\")\n",
    "print(f\"\\nProporção de variáveis com distribuição normal: {normal_count}/{len(df.columns)} ({normal_count/len(df.columns)*100:.1f}%)\")"
   ]
  },
  {
   "cell_type": "markdown",
   "metadata": {
    "id": "EWUPBcXrosGM"
   },
   "source": [
    "Nesse dataset 50% dos atributos apresentam distribuição normal."
   ]
  },
  {
   "cell_type": "markdown",
   "metadata": {
    "id": "3_ERHJAPEZAt"
   },
   "source": [
    "### 3.3.4. Matriz de Correlação\n",
    "\n",
    "A matriz de correlação mede a força e a direção de uma relação linear entre os atributos do dataset.<br>\n",
    "Valores próximos a 1 indicam uma forte correlação positiva, -1 uma forte correlação negativa, e 0 ausência de correlação linear."
   ]
  },
  {
   "cell_type": "markdown",
   "metadata": {
    "id": "y1tzwXM2osGM"
   },
   "source": [
    "Para simplificar a visualização de correlação linear, o mapa de calor será realizado com o valor absoluto da correlação [0,1] ao invés de [-1, 1]"
   ]
  },
  {
   "cell_type": "code",
   "execution_count": null,
   "metadata": {
    "colab": {
     "base_uri": "https://localhost:8080/",
     "height": 917
    },
    "id": "1iSnofo-HF2u",
    "outputId": "b9bc69b3-56a5-4a69-f769-0c7ad3390cd7"
   },
   "outputs": [],
   "source": [
    "# Matriz de correlação\n",
    "print(\"\\nPara simplificar a visualização de correlação linear, o mapa de calor será realizado com o valor absoluto da correlação [0,1] ao invés de [-1, 1]\\n\")\n",
    "# print(df.corr())\n",
    "calcula_corr(df)\n",
    "pairplot_corr_hm(df, figsize=(24, 24), hist_bins=30, s=10, alpha=0.5)"
   ]
  },
  {
   "cell_type": "markdown",
   "metadata": {
    "id": "vBm9kvFMosGM"
   },
   "source": [
    "### 3.3.5. Análise de VIF\n",
    "\n",
    "Análise de VIF (Variance Inflation Factor ou Fator de Inflação da Variância) é uma medida para quantificar o grau de multicolinearidade entre as variáveis independentes do dataset. A multicolinearidade ocorre quando duas ou mais variáveis independentes estão altamente correlacionadas, o que pode dificultar a estimativa dos coeficientes da regressão e afetar a interpretação dos resultados, principalmente para modelos lineares.\n",
    "\n",
    "Interpretação do VIF:\n",
    "- VIF = 1: não há correlação entre a variável $i$ e as outras variáveis. A variância não está inflacionada.\n",
    "- 1 < VIF < 5: a correlação é moderada, mas geralmente não é uma preocupação.\n",
    "- VIF ≥ 5: indica uma alta correlação e pode ser motivo de preocupação; a variável pode estar contribuindo para a multicolinearidade.\n",
    "- VIF ≥ 10: geralmente considerado um sinal forte de multicolinearidade, e pode ser necessário considerar a remoção da variável ou a aplicação de técnicas de regularização."
   ]
  },
  {
   "cell_type": "code",
   "execution_count": null,
   "metadata": {
    "colab": {
     "base_uri": "https://localhost:8080/"
    },
    "id": "U7vsxPaZosGM",
    "outputId": "04bfebed-9abb-4bc5-cbaf-d95e9abe971a"
   },
   "outputs": [],
   "source": [
    "calcula_vif(df,target)"
   ]
  },
  {
   "cell_type": "markdown",
   "metadata": {
    "id": "wag-Aq8NosGN"
   },
   "source": [
    "Processo iterativo de remoção de variáveis independentes até a obtenção de maior VIF < 10 (desejavelmente < 5).<br>\n",
    "Nesse momento é importante analisar o VIF não apenas como um critério estatístico, mas também com o conhecimento de domínio.<br>"
   ]
  },
  {
   "cell_type": "markdown",
   "metadata": {
    "id": "7fLrBcG1osGN"
   },
   "source": [
    "Pelo conhecimento de domínio as variáveis independentes **'t_topo_nafta'**, **'t_esup_nafta'**, **'t_eint_nafta'** e **'t_lhtp_nafta'** apresentam interdependência por representar parte do equilíbrio termodinâmico nessa seção da torre. Como também observado nas correlações, podemos aplicar redução de dimensionalidade do dataset pela supressão de alguma delas.\n",
    "\n",
    "Nesse conjunto de variáveis observamos que as 4 variáveis estão entre as 6 maiores contribuições de VIF. O objetivo é realizar a menor supressão de regressores que carreguem informações semelhantes. Das 4 variáveis **'t_eint_nafta'** é a que carrega menor VIF, indicando ser a candidata a permanecer, pois ao suprimir uma das variáveis que encontram-se com VIF maior, provavelmente se enquadrará em VIF < 5. \n",
    "\n",
    "Iniciando a exclusão da variável de maior VIF (**'t_topo_nafta**) já tivemos uma melhora significativa, no entanto ainda com VIF para as variáveis desse grupo superior a 10. Então foi excluída mais uma variável (**'t_esup_nafta'**) alcançando então VIF < 5 para as variáveis desse grupo. "
   ]
  },
  {
   "cell_type": "code",
   "execution_count": null,
   "metadata": {
    "colab": {
     "base_uri": "https://localhost:8080/",
     "height": 1000
    },
    "id": "2MQBFBcJosGN",
    "outputId": "bcb9c0bb-c562-4ef3-e24f-e43935d54384"
   },
   "outputs": [],
   "source": [
    "# df1 = df.drop(columns=['t_lhtp_nafta','t_topo_nafta', 't_esup_nafta','t_eint_nafta' ])\n",
    "df1 = df.drop(columns=['t_topo_nafta','t_esup_nafta'])\n",
    "calcula_vif(df1,target)\n",
    "# calcula_corr(df1)\n",
    "# pairplot_corr_hm(df1, figsize=(24, 24), hist_bins=30, s=10, alpha=0.5)"
   ]
  },
  {
   "cell_type": "markdown",
   "metadata": {
    "id": "VnRDIsr7osGN"
   },
   "source": [
    "De forma análoga à seção anterior, o conjunto de **'t_fund_nafta'**, **'t_aque_nafta'**, **'t_carga_nafta'** e **'t_einf_nafta'** representam parte do equilíbrio termodinâmico na região inferior da torre, permitindo-nos realizar a redução de dimensionalidade como realizado anteriormente."
   ]
  },
  {
   "cell_type": "markdown",
   "metadata": {
    "id": "YZcnKF04osGN"
   },
   "source": [
    "As candidatas naturais pelo critério estatístico seriam **'t_fund_nafta'** ou **'t_aque_nafta'**, no entanto a **'t_fund_nafta'** melhor caracteriza o que poderia ser um indicativo de preservação ou supressão de leves na nafta, pois já está saindo da torre para produção do produto final, entanto **'t_aque_nafta'** é um reciclo que não necessariamente indica o acabamento do produto, mas sim uma oportunidade para alteração do equilíbrio termodinâmica na torre, mas que está sendo contempladas pelas demais variáveis dessa mesma seção que serão preservdas.\n",
    "\n",
    "Com isso, excluindo **'t_aque_nafta'** enquadramos o critérios da VIF e preservando melhor as informações do processo físico-químico."
   ]
  },
  {
   "cell_type": "code",
   "execution_count": null,
   "metadata": {
    "colab": {
     "base_uri": "https://localhost:8080/",
     "height": 1000
    },
    "id": "0I2e6g7CosGN",
    "outputId": "dadb72bc-7144-4f7f-d592-586d1507b5ea"
   },
   "outputs": [],
   "source": [
    "# df2 = df1.drop(columns=['t_fund_nafta','t_aque_nafta','t_carg_nafta','t_einf_nafta'])\n",
    "df2 = df1.drop(columns=['t_aque_nafta'])\n",
    "calcula_vif(df2,target)\n",
    "# calcula_corr(df2)\n",
    "# pairplot_corr_hm(df2, figsize=(24, 24), hist_bins=30, s=10, alpha=0.5)"
   ]
  },
  {
   "cell_type": "code",
   "execution_count": 43,
   "metadata": {
    "colab": {
     "base_uri": "https://localhost:8080/",
     "height": 943
    },
    "id": "9o07n7nDosGO",
    "outputId": "5c194102-f7ea-4039-ef36-7e98565702b0"
   },
   "outputs": [
    {
     "data": {
      "image/png": "[encoded data removed]",
      "text/plain": [
       "<Figure size 2400x1500 with 18 Axes>"
      ]
     },
     "metadata": {},
     "output_type": "display_data"
    }
   ],
   "source": [
    "# Resumo das distribuições dos atributos remanescentes\n",
    "\n",
    "plot_boxplot_pdf(df2)"
   ]
  },
  {
   "cell_type": "markdown",
   "metadata": {
    "id": "mledpAbhosGP"
   },
   "source": [
    "### 3.3.6. Criação de novas características\n",
    "\n"
   ]
  },
  {
   "cell_type": "markdown",
   "metadata": {
    "id": "SkgGsbL0osGP"
   },
   "source": [
    "Razão de refluxo: uma variável derivada, definida como a relação entre a vazão de refluxo de topo **'f_refl_nafta'** e a vazão de carga da fracionadora **'f_carg_nafta'** (**'f_refl_nafta'**/**'f_carg_nafta'**). Esta variável representa um parâmetros operacionais que pode ser críticos em fracionadoras, pois determina a eficiência da separação dos componentes.\n",
    "\n",
    "Eficiência da separação: valores mais altos de razão de refluxo proporcionam maior contato entre as fases líquida e vapor em cada estágio do fracionamento, resultando em melhor separação dos componentes com diferentes volatilidades.\n",
    "\n",
    "Controle da composição do produto: ao aumentar a razão de refluxo, mais componentes leves são retidos e retornam à fracionadora em vez de saírem no produto de topo, esperando-se uma elevação da pressão de vapor da nafta que sai pelo fundo da fracionadora.\n",
    "\n",
    "Estabilidade operacional: uma razão de refluxo adequada ajuda a manter condições operacionais estáveis, reduzindo flutuações na qualidade do produto.\n",
    "\n",
    "Perfil térmico da coluna: influencia diretamente o gradiente de temperatura ao longo da fracionadora, afetando a distribuição dos componentes em cada estágio.\n",
    "\n",
    "Implicações: na prática, existe um trade-off importante no ajuste da razão de refluxo:\n",
    "\n",
    "- Razão de refluxo baixa: menor consumo energético e maior capacidade de processamento, porém com qualidade de separação potencialmente comprometida.\n",
    "\n",
    "- Razão de refluxo alta: melhor separação e controle mais preciso da pressão de vapor do produto, porém com maior consumo energético e menor capacidade de processamento.\n",
    "\n",
    "Para a predição da pressão de vapor da nafta, a razão de refluxo representa uma variável derivada de alto valor preditivo, pois sintetiza em um único parâmetro a interação entre duas variáveis operacionais críticas que afetam diretamente o equilíbrio termodinâmico e a composição do produto final.\n",
    "\n",
    "A inclusão desta variável no modelo preditivo provavelmente aumentará seu poder explicativo, capturando um mecanismo de controle operacional que impacta a propriedade alvo que estamos tentando prever."
   ]
  },
  {
   "cell_type": "code",
   "execution_count": 44,
   "metadata": {
    "colab": {
     "base_uri": "https://localhost:8080/",
     "height": 601
    },
    "id": "GmzoDAuZosGP",
    "outputId": "be648181-6b83-4478-8200-49cb575f23df"
   },
   "outputs": [
    {
     "data": {
      "image/png": "[encoded data removed]",
      "text/plain": [
       "<Figure size 800x600 with 2 Axes>"
      ]
     },
     "metadata": {},
     "output_type": "display_data"
    }
   ],
   "source": [
    "df2['r_refl_nafta'] = df2['f_refl_nafta'] / df2['f_carg_nafta']\n",
    "plot_boxplot_pdf_indiv(df2, 'f_refl_nafta')"
   ]
  },
  {
   "cell_type": "markdown",
   "metadata": {
    "id": "PWcky1H4osGP"
   },
   "source": [
    "O novo atributo criado apresenta distribuição assimétrica à direita, com uma cauda da distribuição se estendendo nesse sentido, indicando a presença de valores mais altos menos frequentes. Esse comportamento é derivado da variável **'f_refl_nafta'** que deu origem a essa nova criação, conforme já apresentado anteriormente."
   ]
  },
  {
   "cell_type": "markdown",
   "metadata": {
    "id": "dkYHU7CQosGP"
   },
   "source": [
    "Vamos avaliar como ficaram as correlações e a VIF após essa nova vaiável."
   ]
  },
  {
   "cell_type": "code",
   "execution_count": 45,
   "metadata": {
    "colab": {
     "base_uri": "https://localhost:8080/",
     "height": 1000
    },
    "id": "fa1lgM08osGP",
    "outputId": "dc64cf59-762c-4fd3-e5a1-21e5fc44c7ea"
   },
   "outputs": [
    {
     "name": "stdout",
     "output_type": "stream",
     "text": [
      "\n",
      "VIF das variáveis (ordem decrescente):\n",
      "\n",
      "Variable  r_refl_nafta  f_refl_nafta  f_carg_nafta  t_fund_nafta  t_einf_nafta  t_carg_nafta  t_lhtp_nafta  t_eint_nafta  p_topo_nafta\n",
      "VIF            24.1154       18.2250        6.2141        4.4625        3.9462        3.1929        3.1915        3.0341        1.3351\n"
     ]
    },
    {
     "data": {
      "application/vnd.plotly.v1+json": {
       "config": {
        "plotlyServerURL": "https://plot.ly"
       },
       "data": [
        {
         "coloraxis": "coloraxis",
         "hovertemplate": "x: %{x}<br>y: %{y}<br>color: %{z}<extra></extra>",
         "name": "0",
         "textfont": {
          "size": 12
         },
         "texttemplate": "%{z:.2f}",
         "type": "heatmap",
         "x": [
          "pv_nafta",
          "t_fund_nafta",
          "t_lhtp_nafta",
          "p_topo_nafta",
          "t_carg_nafta",
          "t_einf_nafta",
          "t_eint_nafta",
          "f_carg_nafta",
          "f_refl_nafta",
          "r_refl_nafta"
         ],
         "xaxis": "x",
         "y": [
          "pv_nafta",
          "t_fund_nafta",
          "t_lhtp_nafta",
          "p_topo_nafta",
          "t_carg_nafta",
          "t_einf_nafta",
          "t_eint_nafta",
          "f_carg_nafta",
          "f_refl_nafta",
          "r_refl_nafta"
         ],
         "yaxis": "y",
         "z": {
          "bdata": "AAAAAAAA8D/Q/5X402DhP/LCSi+TAqE/tA7mgVbi1T9Ibli7ddjPPwjbLi/ZCuU/hDwP10uGpT8GnKAVGO3iP4DwuMMn3Ng/xhKE5Mmg4T/Q/5X402DhPwAAAAAAAPA/pDaPYqY5uz8vU4H4Hl29P7DOhQqWlek/CrW8IBue6T9juzvFxhbBP2Mx1fN3cNU/f0uYyzL8qT+1ZzfUUlfGP/LCSi+TAqE/pDaPYqY5uz8AAAAAAADwP2jiTNikFck/lyd0SZgRpz9kPJOCO9rBP31Olty+Ouk/nMx8seX/zT9Wd7ZP5p7SP/WabE4wldM/tA7mgVbi1T8vU4H4Hl29P2jiTNikFck/AAAAAAAA8D+rBjzZw2XGP0xUpGV3i68/SZlZSy4WzD9eNO4i4A7XP5rd8+hep8Y/PjqpUfwS0T9Ibli7ddjPP7DOhQqWlek/lyd0SZgRpz+rBjzZw2XGPwAAAAAAAPA/hjFs4oEV5T8xv1A7HivFPwiKU9MANs4/cENNiKSbsz8cJu3SAt+TPwjbLi/ZCuU/CrW8IBue6T9kPJOCO9rBP0xUpGV3i68/hjFs4oEV5T8AAAAAAADwP9oJcSQ3UMQ/UNy9lSVH3j9m7HHH1KLJP8YvwbiMmNY/hDwP10uGpT9juzvFxhbBP31Olty+Ouk/SZlZSy4WzD8xv1A7HivFP9oJcSQ3UMQ/AAAAAAAA8D+8otDnOFfJP8YrjqKAdtQ/jUQm/5F61j8GnKAVGO3iP2Mx1fN3cNU/nMx8seX/zT9eNO4i4A7XPwiKU9MANs4/UNy9lSVH3j+8otDnOFfJPwAAAAAAAPA/FDacmEq+xD9mNHq9/BrhP4DwuMMn3Ng/f0uYyzL8qT9Wd7ZP5p7SP5rd8+hep8Y/cENNiKSbsz9m7HHH1KLJP8YrjqKAdtQ/FDacmEq+xD8AAAAAAADwP2TQ9r8zl+w/xhKE5Mmg4T+1ZzfUUlfGP/WabE4wldM/PjqpUfwS0T8cJu3SAt+TP8YvwbiMmNY/jUQm/5F61j9mNHq9/BrhP2TQ9r8zl+w/AAAAAAAA8D8=",
          "dtype": "f8",
          "shape": "10, 10"
         }
        }
       ],
       "layout": {
        "coloraxis": {
         "colorscale": [
          [
           0,
           "#440154"
          ],
          [
           0.1111111111111111,
           "#482878"
          ],
          [
           0.2222222222222222,
           "#3e4989"
          ],
          [
           0.3333333333333333,
           "#31688e"
          ],
          [
           0.4444444444444444,
           "#26828e"
          ],
          [
           0.5555555555555556,
           "#1f9e89"
          ],
          [
           0.6666666666666666,
           "#35b779"
          ],
          [
           0.7777777777777778,
           "#6ece58"
          ],
          [
           0.8888888888888888,
           "#b5de2b"
          ],
          [
           1,
           "#fde725"
          ]
         ]
        },
        "height": 900,
        "margin": {
         "t": 60
        },
        "template": {
         "data": {
          "bar": [
           {
            "error_x": {
             "color": "#2a3f5f"
            },
            "error_y": {
             "color": "#2a3f5f"
            },
            "marker": {
             "line": {
              "color": "#E5ECF6",
              "width": 0.5
             },
             "pattern": {
              "fillmode": "overlay",
              "size": 10,
              "solidity": 0.2
             }
            },
            "type": "bar"
           }
          ],
          "barpolar": [
           {
            "marker": {
             "line": {
              "color": "#E5ECF6",
              "width": 0.5
             },
             "pattern": {
              "fillmode": "overlay",
              "size": 10,
              "solidity": 0.2
             }
            },
            "type": "barpolar"
           }
          ],
          "carpet": [
           {
            "aaxis": {
             "endlinecolor": "#2a3f5f",
             "gridcolor": "white",
             "linecolor": "white",
             "minorgridcolor": "white",
             "startlinecolor": "#2a3f5f"
            },
            "baxis": {
             "endlinecolor": "#2a3f5f",
             "gridcolor": "white",
             "linecolor": "white",
             "minorgridcolor": "white",
             "startlinecolor": "#2a3f5f"
            },
            "type": "carpet"
           }
          ],
          "choropleth": [
           {
            "colorbar": {
             "outlinewidth": 0,
             "ticks": ""
            },
            "type": "choropleth"
           }
          ],
          "contour": [
           {
            "colorbar": {
             "outlinewidth": 0,
             "ticks": ""
            },
            "colorscale": [
             [
              0,
              "#0d0887"
             ],
             [
              0.1111111111111111,
              "#46039f"
             ],
             [
              0.2222222222222222,
              "#7201a8"
             ],
             [
              0.3333333333333333,
              "#9c179e"
             ],
             [
              0.4444444444444444,
              "#bd3786"
             ],
             [
              0.5555555555555556,
              "#d8576b"
             ],
             [
              0.6666666666666666,
              "#ed7953"
             ],
             [
              0.7777777777777778,
              "#fb9f3a"
             ],
             [
              0.8888888888888888,
              "#fdca26"
             ],
             [
              1,
              "#f0f921"
             ]
            ],
            "type": "contour"
           }
          ],
          "contourcarpet": [
           {
            "colorbar": {
             "outlinewidth": 0,
             "ticks": ""
            },
            "type": "contourcarpet"
           }
          ],
          "heatmap": [
           {
            "colorbar": {
             "outlinewidth": 0,
             "ticks": ""
            },
            "colorscale": [
             [
              0,
              "#0d0887"
             ],
             [
              0.1111111111111111,
              "#46039f"
             ],
             [
              0.2222222222222222,
              "#7201a8"
             ],
             [
              0.3333333333333333,
              "#9c179e"
             ],
             [
              0.4444444444444444,
              "#bd3786"
             ],
             [
              0.5555555555555556,
              "#d8576b"
             ],
             [
              0.6666666666666666,
              "#ed7953"
             ],
             [
              0.7777777777777778,
              "#fb9f3a"
             ],
             [
              0.8888888888888888,
              "#fdca26"
             ],
             [
              1,
              "#f0f921"
             ]
            ],
            "type": "heatmap"
           }
          ],
          "histogram": [
           {
            "marker": {
             "pattern": {
              "fillmode": "overlay",
              "size": 10,
              "solidity": 0.2
             }
            },
            "type": "histogram"
           }
          ],
          "histogram2d": [
           {
            "colorbar": {
             "outlinewidth": 0,
             "ticks": ""
            },
            "colorscale": [
             [
              0,
              "#0d0887"
             ],
             [
              0.1111111111111111,
              "#46039f"
             ],
             [
              0.2222222222222222,
              "#7201a8"
             ],
             [
              0.3333333333333333,
              "#9c179e"
             ],
             [
              0.4444444444444444,
              "#bd3786"
             ],
             [
              0.5555555555555556,
              "#d8576b"
             ],
             [
              0.6666666666666666,
              "#ed7953"
             ],
             [
              0.7777777777777778,
              "#fb9f3a"
             ],
             [
              0.8888888888888888,
              "#fdca26"
             ],
             [
              1,
              "#f0f921"
             ]
            ],
            "type": "histogram2d"
           }
          ],
          "histogram2dcontour": [
           {
            "colorbar": {
             "outlinewidth": 0,
             "ticks": ""
            },
            "colorscale": [
             [
              0,
              "#0d0887"
             ],
             [
              0.1111111111111111,
              "#46039f"
             ],
             [
              0.2222222222222222,
              "#7201a8"
             ],
             [
              0.3333333333333333,
              "#9c179e"
             ],
             [
              0.4444444444444444,
              "#bd3786"
             ],
             [
              0.5555555555555556,
              "#d8576b"
             ],
             [
              0.6666666666666666,
              "#ed7953"
             ],
             [
              0.7777777777777778,
              "#fb9f3a"
             ],
             [
              0.8888888888888888,
              "#fdca26"
             ],
             [
              1,
              "#f0f921"
             ]
            ],
            "type": "histogram2dcontour"
           }
          ],
          "mesh3d": [
           {
            "colorbar": {
             "outlinewidth": 0,
             "ticks": ""
            },
            "type": "mesh3d"
           }
          ],
          "parcoords": [
           {
            "line": {
             "colorbar": {
              "outlinewidth": 0,
              "ticks": ""
             }
            },
            "type": "parcoords"
           }
          ],
          "pie": [
           {
            "automargin": true,
            "type": "pie"
           }
          ],
          "scatter": [
           {
            "fillpattern": {
             "fillmode": "overlay",
             "size": 10,
             "solidity": 0.2
            },
            "type": "scatter"
           }
          ],
          "scatter3d": [
           {
            "line": {
             "colorbar": {
              "outlinewidth": 0,
              "ticks": ""
             }
            },
            "marker": {
             "colorbar": {
              "outlinewidth": 0,
              "ticks": ""
             }
            },
            "type": "scatter3d"
           }
          ],
          "scattercarpet": [
           {
            "marker": {
             "colorbar": {
              "outlinewidth": 0,
              "ticks": ""
             }
            },
            "type": "scattercarpet"
           }
          ],
          "scattergeo": [
           {
            "marker": {
             "colorbar": {
              "outlinewidth": 0,
              "ticks": ""
             }
            },
            "type": "scattergeo"
           }
          ],
          "scattergl": [
           {
            "marker": {
             "colorbar": {
              "outlinewidth": 0,
              "ticks": ""
             }
            },
            "type": "scattergl"
           }
          ],
          "scattermap": [
           {
            "marker": {
             "colorbar": {
              "outlinewidth": 0,
              "ticks": ""
             }
            },
            "type": "scattermap"
           }
          ],
          "scattermapbox": [
           {
            "marker": {
             "colorbar": {
              "outlinewidth": 0,
              "ticks": ""
             }
            },
            "type": "scattermapbox"
           }
          ],
          "scatterpolar": [
           {
            "marker": {
             "colorbar": {
              "outlinewidth": 0,
              "ticks": ""
             }
            },
            "type": "scatterpolar"
           }
          ],
          "scatterpolargl": [
           {
            "marker": {
             "colorbar": {
              "outlinewidth": 0,
              "ticks": ""
             }
            },
            "type": "scatterpolargl"
           }
          ],
          "scatterternary": [
           {
            "marker": {
             "colorbar": {
              "outlinewidth": 0,
              "ticks": ""
             }
            },
            "type": "scatterternary"
           }
          ],
          "surface": [
           {
            "colorbar": {
             "outlinewidth": 0,
             "ticks": ""
            },
            "colorscale": [
             [
              0,
              "#0d0887"
             ],
             [
              0.1111111111111111,
              "#46039f"
             ],
             [
              0.2222222222222222,
              "#7201a8"
             ],
             [
              0.3333333333333333,
              "#9c179e"
             ],
             [
              0.4444444444444444,
              "#bd3786"
             ],
             [
              0.5555555555555556,
              "#d8576b"
             ],
             [
              0.6666666666666666,
              "#ed7953"
             ],
             [
              0.7777777777777778,
              "#fb9f3a"
             ],
             [
              0.8888888888888888,
              "#fdca26"
             ],
             [
              1,
              "#f0f921"
             ]
            ],
            "type": "surface"
           }
          ],
          "table": [
           {
            "cells": {
             "fill": {
              "color": "#EBF0F8"
             },
             "line": {
              "color": "white"
             }
            },
            "header": {
             "fill": {
              "color": "#C8D4E3"
             },
             "line": {
              "color": "white"
             }
            },
            "type": "table"
           }
          ]
         },
         "layout": {
          "annotationdefaults": {
           "arrowcolor": "#2a3f5f",
           "arrowhead": 0,
           "arrowwidth": 1
          },
          "autotypenumbers": "strict",
          "coloraxis": {
           "colorbar": {
            "outlinewidth": 0,
            "ticks": ""
           }
          },
          "colorscale": {
           "diverging": [
            [
             0,
             "#8e0152"
            ],
            [
             0.1,
             "#c51b7d"
            ],
            [
             0.2,
             "#de77ae"
            ],
            [
             0.3,
             "#f1b6da"
            ],
            [
             0.4,
             "#fde0ef"
            ],
            [
             0.5,
             "#f7f7f7"
            ],
            [
             0.6,
             "#e6f5d0"
            ],
            [
             0.7,
             "#b8e186"
            ],
            [
             0.8,
             "#7fbc41"
            ],
            [
             0.9,
             "#4d9221"
            ],
            [
             1,
             "#276419"
            ]
           ],
           "sequential": [
            [
             0,
             "#0d0887"
            ],
            [
             0.1111111111111111,
             "#46039f"
            ],
            [
             0.2222222222222222,
             "#7201a8"
            ],
            [
             0.3333333333333333,
             "#9c179e"
            ],
            [
             0.4444444444444444,
             "#bd3786"
            ],
            [
             0.5555555555555556,
             "#d8576b"
            ],
            [
             0.6666666666666666,
             "#ed7953"
            ],
            [
             0.7777777777777778,
             "#fb9f3a"
            ],
            [
             0.8888888888888888,
             "#fdca26"
            ],
            [
             1,
             "#f0f921"
            ]
           ],
           "sequentialminus": [
            [
             0,
             "#0d0887"
            ],
            [
             0.1111111111111111,
             "#46039f"
            ],
            [
             0.2222222222222222,
             "#7201a8"
            ],
            [
             0.3333333333333333,
             "#9c179e"
            ],
            [
             0.4444444444444444,
             "#bd3786"
            ],
            [
             0.5555555555555556,
             "#d8576b"
            ],
            [
             0.6666666666666666,
             "#ed7953"
            ],
            [
             0.7777777777777778,
             "#fb9f3a"
            ],
            [
             0.8888888888888888,
             "#fdca26"
            ],
            [
             1,
             "#f0f921"
            ]
           ]
          },
          "colorway": [
           "#636efa",
           "#EF553B",
           "#00cc96",
           "#ab63fa",
           "#FFA15A",
           "#19d3f3",
           "#FF6692",
           "#B6E880",
           "#FF97FF",
           "#FECB52"
          ],
          "font": {
           "color": "#2a3f5f"
          },
          "geo": {
           "bgcolor": "white",
           "lakecolor": "white",
           "landcolor": "#E5ECF6",
           "showlakes": true,
           "showland": true,
           "subunitcolor": "white"
          },
          "hoverlabel": {
           "align": "left"
          },
          "hovermode": "closest",
          "mapbox": {
           "style": "light"
          },
          "paper_bgcolor": "white",
          "plot_bgcolor": "#E5ECF6",
          "polar": {
           "angularaxis": {
            "gridcolor": "white",
            "linecolor": "white",
            "ticks": ""
           },
           "bgcolor": "#E5ECF6",
           "radialaxis": {
            "gridcolor": "white",
            "linecolor": "white",
            "ticks": ""
           }
          },
          "scene": {
           "xaxis": {
            "backgroundcolor": "#E5ECF6",
            "gridcolor": "white",
            "gridwidth": 2,
            "linecolor": "white",
            "showbackground": true,
            "ticks": "",
            "zerolinecolor": "white"
           },
           "yaxis": {
            "backgroundcolor": "#E5ECF6",
            "gridcolor": "white",
            "gridwidth": 2,
            "linecolor": "white",
            "showbackground": true,
            "ticks": "",
            "zerolinecolor": "white"
           },
           "zaxis": {
            "backgroundcolor": "#E5ECF6",
            "gridcolor": "white",
            "gridwidth": 2,
            "linecolor": "white",
            "showbackground": true,
            "ticks": "",
            "zerolinecolor": "white"
           }
          },
          "shapedefaults": {
           "line": {
            "color": "#2a3f5f"
           }
          },
          "ternary": {
           "aaxis": {
            "gridcolor": "white",
            "linecolor": "white",
            "ticks": ""
           },
           "baxis": {
            "gridcolor": "white",
            "linecolor": "white",
            "ticks": ""
           },
           "bgcolor": "#E5ECF6",
           "caxis": {
            "gridcolor": "white",
            "linecolor": "white",
            "ticks": ""
           }
          },
          "title": {
           "x": 0.05
          },
          "xaxis": {
           "automargin": true,
           "gridcolor": "white",
           "linecolor": "white",
           "ticks": "",
           "title": {
            "standoff": 15
           },
           "zerolinecolor": "white",
           "zerolinewidth": 2
          },
          "yaxis": {
           "automargin": true,
           "gridcolor": "white",
           "linecolor": "white",
           "ticks": "",
           "title": {
            "standoff": 15
           },
           "zerolinecolor": "white",
           "zerolinewidth": 2
          }
         }
        },
        "width": 900,
        "xaxis": {
         "anchor": "y",
         "constrain": "domain",
         "domain": [
          0,
          1
         ],
         "scaleanchor": "y"
        },
        "yaxis": {
         "anchor": "x",
         "autorange": "reversed",
         "constrain": "domain",
         "domain": [
          0,
          1
         ]
        }
       }
      }
     },
     "metadata": {},
     "output_type": "display_data"
    }
   ],
   "source": [
    "calcula_vif(df2,target)\n",
    "calcula_corr(df2)\n",
    "# pairplot_corr_hm(df2, figsize=(24, 24), hist_bins=30, s=10, alpha=0.5)"
   ]
  },
  {
   "cell_type": "markdown",
   "metadata": {
    "id": "PR21vAuqosGP"
   },
   "source": [
    "É possível observar uma elevada correlação, conforme esperado, entre **'f_refl_nafta'** e a nova **'r_refl_nafta'**. Em função da relevância dessa nova variável, conforme explicado anteriormente e até mesmo da discreta maior correlação com a variável alvo, vamos suprimir a **'f_refl_nafta'** para reduzir a VIF (reduzir a mulcolinearidade)."
   ]
  },
  {
   "cell_type": "code",
   "execution_count": 46,
   "metadata": {
    "colab": {
     "base_uri": "https://localhost:8080/"
    },
    "id": "Jnn4yn7qosGP",
    "outputId": "5d501603-9cb3-40ff-f7d3-5977550a7d0b"
   },
   "outputs": [
    {
     "name": "stdout",
     "output_type": "stream",
     "text": [
      "\n",
      "VIF das variáveis (ordem decrescente):\n",
      "\n",
      "Variable  t_fund_nafta  t_einf_nafta  t_carg_nafta  t_eint_nafta  t_lhtp_nafta  f_carg_nafta  r_refl_nafta  p_topo_nafta\n",
      "VIF             4.4596        3.8598        3.1878        2.9373        2.9223        1.9199        1.7974        1.2920\n"
     ]
    }
   ],
   "source": [
    "df3 = df2.drop(columns=['f_refl_nafta'])\n",
    "calcula_vif(df3,target)"
   ]
  },
  {
   "cell_type": "markdown",
   "metadata": {
    "id": "KCMhFpoxosGP"
   },
   "source": [
    "Como a VIF ficou novamente abaixo de 5 vamos parar a remoção de variáveis nessa etapa."
   ]
  },
  {
   "cell_type": "markdown",
   "metadata": {
    "id": "wx_sNOk8osGQ"
   },
   "source": [
    "# 4. Separação e divisão do dataset entre features (X) e target (y)\n",
    "\n",
    "- Em **séries temporais**, **não embaralhe** e use divisões temporais (ex.: `TimeSeriesSplit`).\n",
    "- Em **classificação desequilibrada**, considere **estratégias para desbalanceamento** (ex.: `class_weight`, undersampling/oversampling).\n",
    "\n",
    "> **Atenção:** Todas as **transformações** aprendidas devem ser **ajustadas no treino** e **aplicadas no validação/teste**. Recomendamos usar **pipelines**."
   ]
  },
  {
   "cell_type": "code",
   "execution_count": 47,
   "metadata": {
    "id": "82kzmWnHFkb6"
   },
   "outputs": [],
   "source": [
    "# Definição do problema e inicialização de variáveis\n",
    "SEED = 42\n",
    "PROBLEM_TYPE = \"regressao\"\n",
    "SPLIT = 0.2\n",
    "CV_FOLDS = 5\n",
    "METRIC_TO_OPTIMIZE = 'r2'"
   ]
  },
  {
   "cell_type": "code",
   "execution_count": 48,
   "metadata": {
    "id": "zzxbuTbIeuuU"
   },
   "outputs": [
    {
     "name": "stdout",
     "output_type": "stream",
     "text": [
      "Treino: (724, 11) | Teste: (182, 11)\n",
      "Tipo: regressao\n",
      "Target: pv_nafta\n",
      "Nº features: 11\n"
     ]
    }
   ],
   "source": [
    "X = df.drop(target, axis=1)\n",
    "y = df[target].copy()\n",
    "X_train, X_test, y_train, y_test = train_test_split(\n",
    "    X, y, test_size=SPLIT, random_state=SEED, stratify=y if PROBLEM_TYPE==\"classificacao\" else None\n",
    ")\n",
    "print(\"Treino:\", X_train.shape, \"| Teste:\", X_test.shape)\n",
    "print(\"Tipo:\", PROBLEM_TYPE)\n",
    "print(\"Target:\", target)\n",
    "print(\"Nº features:\", X.shape[1])"
   ]
  },
  {
   "cell_type": "code",
   "execution_count": null,
   "metadata": {},
   "outputs": [],
   "source": [
    "# Lista de métodos de padronização\n",
    "scalers = [\n",
    "    # (\"minmax\", MinMaxScaler())\n",
    "    (\"standard\", StandardScaler())\n",
    "]\n",
    "\n",
    "# Definição das métricas de avaliação\n",
    "scoring = {\n",
    "    'r2': 'r2',\n",
    "    'mse': 'neg_mean_squared_error',\n",
    "    'rmse': make_scorer(rmse_score, greater_is_better=False),\n",
    "    'mae': 'neg_mean_absolute_error'\n",
    "}\n",
    "\n",
    "# Lista de modelos candidatos e seus hiperparâmetros para otimização\n",
    "# Imports para modelos externos (se ainda não importados)\n",
    "candidates = [\n",
    "    (\"linear\",\n",
    "        LinearRegression(),\n",
    "        {}  # Linear Regression não tem hiperparâmetros para otimizar\n",
    "    ),\n",
    "    (\"ridge\", \n",
    "        Ridge(), {\n",
    "            \"regressor__alpha\": Real(1e-3, 10, prior=\"log-uniform\"),\n",
    "            # Adicionados:\n",
    "            \"regressor__tol\": Real(1e-5, 1e-3, prior=\"log-uniform\"),\n",
    "            \"regressor__solver\": Categorical([\"auto\", \"svd\", \"cholesky\", \"lsqr\", \"sparse_cg\", \"sag\", \"saga\"])\n",
    "                        }\n",
    "    ),\n",
    "    (\"lasso\", \n",
    "        Lasso(), {\n",
    "            \"regressor__alpha\": Real(1e-5, 1, prior=\"log-uniform\"),\n",
    "            # Adicionados:\n",
    "            \"regressor__tol\": Real(1e-5, 1e-3, prior=\"log-uniform\"),\n",
    "            \"regressor__selection\": Categorical([\"cyclic\", \"random\"]),\n",
    "            \"regressor__max_iter\": Integer(1000, 3000)\n",
    "                        }\n",
    "    ),\n",
    "    (\"elasticnet\", \n",
    "        ElasticNet(), {\n",
    "            \"regressor__alpha\": Real(1e-5, 1, prior=\"log-uniform\"),  # Aumentei o limite superior\n",
    "            \"regressor__l1_ratio\": Real(0.01, 0.99),  # Ajustado para cobrir quase todo o intervalo\n",
    "            # Adicionados:\n",
    "            \"regressor__tol\": Real(1e-5, 1e-3, prior=\"log-uniform\"),\n",
    "            \"regressor__selection\": Categorical([\"cyclic\", \"random\"]),\n",
    "            \"regressor__max_iter\": Integer(1000, 3000)\n",
    "                                }\n",
    "    ),\n",
    "    (\"randomforest\", \n",
    "        RandomForestRegressor(random_state=SEED), {\n",
    "            \"regressor__n_estimators\": Integer(50, 300),  # Reduzido o limite superior\n",
    "            \"regressor__max_depth\": Integer(3, 25),  # Reduzido significativamente para evitar overfitting\n",
    "            \"regressor__min_samples_split\": Integer(2, 10),  # Aumentado o limite superior\n",
    "            # Adicionados:\n",
    "            \"regressor__min_samples_leaf\": Integer(1, 10),\n",
    "            \"regressor__max_features\": Categorical([\"sqrt\", \"log2\", None, 0.7, 0.8]),\n",
    "            \"regressor__bootstrap\": Categorical([True, False])\n",
    "                                                                }\n",
    "    ),\n",
    "    (\"extratrees\", \n",
    "        ExtraTreesRegressor(random_state=SEED), {\n",
    "            \"regressor__n_estimators\": Integer(50, 300),  # Mantido\n",
    "            \"regressor__max_depth\": Integer(3, 20),  # Reduzido para evitar overfitting\n",
    "            \"regressor__min_samples_split\": Integer(2, 10),  # Aumentado o limite superior\n",
    "            # Adicionados:\n",
    "            \"regressor__min_samples_leaf\": Integer(1, 10),\n",
    "            \"regressor__max_features\": Categorical([\"sqrt\", \"log2\", None, 0.7, 0.8]),\n",
    "            \"regressor__bootstrap\": Categorical([True, False])\n",
    "                                                            }\n",
    "    ),\n",
    "    (\"gbr\", \n",
    "        GradientBoostingRegressor(random_state=SEED), {\n",
    "            \"regressor__n_estimators\": Integer(50, 200),  # Mantido\n",
    "            \"regressor__learning_rate\": Real(0.01, 0.3, prior=\"log-uniform\"),  # Ajustado o intervalo\n",
    "            \"regressor__max_depth\": Integer(2, 8),  # Aumentado ligeiramente o limite superior\n",
    "            # Adicionados:\n",
    "            \"regressor__min_samples_split\": Integer(2, 20),\n",
    "            \"regressor__min_samples_leaf\": Integer(1, 10),\n",
    "            \"regressor__subsample\": Real(0.6, 1.0),\n",
    "            \"regressor__max_features\": Categorical([\"sqrt\", \"log2\", None])\n",
    "                                                            }\n",
    "    ),\n",
    "    (\"xgboost\", \n",
    "        XGBRegressor(random_state=SEED, verbosity=0), {\n",
    "            \"regressor__n_estimators\": Integer(50, 300),  # Mantido\n",
    "            \"regressor__learning_rate\": Real(0.01, 0.3, prior=\"log-uniform\"),  # Ajustado o intervalo\n",
    "            \"regressor__max_depth\": Integer(3, 12),  # Reduzido significativamente\n",
    "            \"regressor__subsample\": Real(0.6, 1.0),  # Ajustado o limite inferior\n",
    "            \"regressor__colsample_bytree\": Real(0.6, 1.0),  # Ajustado o limite inferior\n",
    "            # Adicionados:\n",
    "            \"regressor__min_child_weight\": Integer(1, 10),\n",
    "            \"regressor__gamma\": Real(0, 5),\n",
    "            \"regressor__reg_alpha\": Real(0, 2),\n",
    "            \"regressor__reg_lambda\": Real(0.5, 5),\n",
    "            # \"regressor__early_stopping_rounds\": Categorical([10, 20, 50])\n",
    "                                                            }\n",
    "    ),\n",
    "    (\"lightgbm\", \n",
    "        LGBMRegressor(random_state=SEED, force_col_wise=True, min_split_gain=0.1, verbose=-1), {\n",
    "            \"regressor__n_estimators\": Integer(100, 500),  # Ajustado o limite inferior\n",
    "            \"regressor__learning_rate\": Real(0.01, 0.3, prior=\"log-uniform\"),  # Ajustado o intervalo\n",
    "            \"regressor__max_depth\": Integer(3, 15),  # Reduzido\n",
    "            \"regressor__num_leaves\": Integer(20, 100),  # Reduzido significativamente\n",
    "            # Adicionados:\n",
    "            \"regressor__min_child_samples\": Integer(5, 50),\n",
    "            \"regressor__reg_alpha\": Real(0, 2),\n",
    "            \"regressor__reg_lambda\": Real(0.5, 5),\n",
    "            \"regressor__subsample\": Real(0.6, 1.0),\n",
    "            \"regressor__colsample_bytree\": Real(0.6, 1.0),\n",
    "            \"regressor__bagging_freq\": Integer(0, 10)\n",
    "                                                                                                        }\n",
    "    ),\n",
    "    (\"catboost\", \n",
    "        CatBoostRegressor(random_state=SEED, verbose=0), {\n",
    "            \"regressor__iterations\": Integer(100, 800),  # Reduzido\n",
    "            \"regressor__learning_rate\": Real(0.01, 0.3, prior=\"log-uniform\"),  # Ajustado o intervalo\n",
    "            \"regressor__depth\": Integer(4, 10),  # Reduzido\n",
    "            # Adicionados:\n",
    "            \"regressor__l2_leaf_reg\": Real(1, 10),\n",
    "            \"regressor__subsample\": Real(0.6, 1.0),\n",
    "            \"regressor__rsm\": Real(0.6, 1.0),  # Column subsample ratio\n",
    "            \"regressor__min_data_in_leaf\": Integer(1, 20),\n",
    "            \"regressor__border_count\": Integer(32, 255)\n",
    "                                                                }\n",
    "    ),\n",
    "   (\"svr\", \n",
    "        SVR(), {\n",
    "            \"regressor__C\": Real(0.1, 100, prior=\"log-uniform\"),  # Reduzido o intervalo\n",
    "            \"regressor__epsilon\": Real(0.01, 1.0, prior=\"log-uniform\"),  # Reduzido significativamente\n",
    "            \"regressor__kernel\": Categorical([\"rbf\", \"linear\", \"poly\"]),  # Adicionado kernel polinomial\n",
    "            # Adicionados:\n",
    "            \"regressor__gamma\": Real(0.001, 1.0, prior=\"log-uniform\"),  # Importante para kernel RBF\n",
    "            \"regressor__degree\": Integer(2, 4),  # Para kernel polinomial\n",
    "            \"regressor__coef0\": Real(0, 1)  # Para kernel polinomial\n",
    "                }\n",
    "    )\n",
    "]"
   ]
  },
  {
   "cell_type": "code",
   "execution_count": 50,
   "metadata": {},
   "outputs": [
    {
     "name": "stdout",
     "output_type": "stream",
     "text": [
      "Baseline model: linear - LinearRegression()\n",
      "Total de candidatos (incluindo baseline): 4\n",
      "candidates[0]: linear\n",
      "candidates[1]: xgboost\n",
      "candidates[2]: lightgbm\n",
      "candidates[3]: svr\n"
     ]
    }
   ],
   "source": [
    "# Modelo baseline\n",
    "baseline_algorithm = candidates[0]\n",
    "\n",
    "# Agora você pode acessar facilmente:\n",
    "print(f\"Baseline model: {baseline_algorithm[0]} - {baseline_algorithm[1]}\")\n",
    "print(f\"Total de candidatos (incluindo baseline): {len(candidates)}\")\n",
    "\n",
    "# Verificar a estrutura\n",
    "for i, (name, model, params) in enumerate(candidates):\n",
    "    print(f\"candidates[{i}]: {name}\")"
   ]
  },
  {
   "cell_type": "code",
   "execution_count": 51,
   "metadata": {},
   "outputs": [
    {
     "name": "stdout",
     "output_type": "stream",
     "text": [
      "================================================================================\n",
      "BASELINE - LINEAR: LinearRegression()\n",
      "================================================================================\n",
      "\n",
      "Modelo: LINEAR com Scaler: standard\n",
      "+-----------+---------------------------+-----------------------+\n",
      "| Métrica   | Treino (média ± desvio)   | CV (média ± desvio)   |\n",
      "+===========+===========================+=======================+\n",
      "| R²        | 0.7620 (±0.0076)          | 0.7510 (±0.0291)      |\n",
      "+-----------+---------------------------+-----------------------+\n",
      "| RMSE      | 7.2980 (±0.1157)          | 7.4255 (±0.4432)      |\n",
      "+-----------+---------------------------+-----------------------+\n",
      "\n",
      "Melhor configuração baseline linear:\n",
      "- Scaler: standard\n",
      "- R² CV: 0.7620\n",
      "- R² CV: 0.7510\n",
      "- RMSE CV: 7.2980\n",
      "- RMSE CV: 7.4255\n",
      "- Data do experimento: 2025-09-01 18:20:38\n"
     ]
    }
   ],
   "source": [
    "# Pegar o baseline (primeiro elemento da lista candidates)\n",
    "baseline_name, baseline_model, _ = baseline_algorithm\n",
    "\n",
    "print(\"=\"*80)\n",
    "print(f\"BASELINE - {baseline_name.upper()}: {baseline_model}\")\n",
    "print(\"=\"*80)\n",
    "\n",
    "# Loop através de todas as configurações de scaler da lista scalers\n",
    "for scaler_name, scaler in scalers:\n",
    "    pipeline = Pipeline([\n",
    "        ('scaler', scaler),\n",
    "        ('regressor', baseline_model)\n",
    "    ])\n",
    "\n",
    "    # Validação cruzada\n",
    "    cv_results = cross_validate(\n",
    "        pipeline, X_train, y_train,\n",
    "        cv=CV_FOLDS,\n",
    "        scoring=scoring,\n",
    "        return_train_score=True\n",
    "    )\n",
    "\n",
    "    # Adicionar resultados ao DataFrame unificado\n",
    "    all_results_df = add_results_to_df(\n",
    "        all_results_df,\n",
    "        model_name=baseline_name,  # Usar o nome do candidates[0]\n",
    "        scaler_name=scaler_name,\n",
    "        cv_results=cv_results,\n",
    "        hyperparams='default',\n",
    "        optimization_method='baseline'\n",
    "    )\n",
    "\n",
    "    print_metrics_table(baseline_name, scaler_name, cv_results)\n",
    "\n",
    "# Filtrar resultados do baseline\n",
    "baseline_results = all_results_df[\n",
    "    (all_results_df['model_name'] == baseline_name) & \n",
    "    (all_results_df['optimization_method'] == 'baseline')\n",
    "].copy()\n",
    "\n",
    "# Melhor configuração\n",
    "best_baseline = baseline_results.loc[baseline_results['r2_cv_mean'].idxmax()]\n",
    "print(f\"\\nMelhor configuração baseline {baseline_name}:\")\n",
    "print(f\"- Scaler: {best_baseline['scaler']}\")\n",
    "print(f\"- R² CV: {best_baseline['r2_train_mean']:.4f}\")\n",
    "print(f\"- R² CV: {best_baseline['r2_cv_mean']:.4f}\")\n",
    "print(f\"- RMSE CV: {best_baseline['rmse_train_mean']:.4f}\")\n",
    "print(f\"- RMSE CV: {best_baseline['rmse_cv_mean']:.4f}\")\n",
    "print(f\"- Data do experimento: {best_baseline['experiment_date']}\")"
   ]
  },
  {
   "cell_type": "code",
   "execution_count": 52,
   "metadata": {},
   "outputs": [],
   "source": [
    "# # Loop através dos outros candidatos (excluindo o baseline)\n",
    "# other_candidates = [candidate for candidate in candidates if candidate[0] != baseline_name]\n",
    "\n",
    "# print(\"Iniciando avaliação dos modelos candidatos...\")\n",
    "\n",
    "\n",
    "# # Loop através de cada modelo candidato\n",
    "# for model_name, model, _ in other_candidates:\n",
    "\n",
    "#     # Cria o pipeline com o scaler e o modelo\n",
    "#     pipeline = Pipeline([\n",
    "#         ('scaler', scaler),\n",
    "#         ('regressor', clone(model))  # Usar clone para garantir que o modelo seja resetado a cada iteração\n",
    "#     ])\n",
    "\n",
    "#     # Validação cruzada\n",
    "#     cv_results = cross_validate(\n",
    "#         pipeline, X_train, y_train,\n",
    "#         cv=CV_FOLDS,\n",
    "#         scoring=scoring,\n",
    "#         return_train_score=True,\n",
    "#         n_jobs=-1 # Utiliza todos os processadores para acelerar\n",
    "#     )\n",
    "\n",
    "#     # Adicionar resultados ao DataFrame unificado\n",
    "#     all_results_df = add_results_to_df(\n",
    "#         all_results_df,\n",
    "#         model_name=model_name,\n",
    "#         scaler_name=scaler_name,\n",
    "#         cv_results=cv_results,\n",
    "#         hyperparams='default',\n",
    "#         optimization_method='baseline' # Ainda estamos na fase de baseline para estes modelos\n",
    "#     )\n",
    "\n",
    "# print(\"=\"*80)\n",
    "# print(\"Cálculos concluídos.\")"
   ]
  },
  {
   "cell_type": "code",
   "execution_count": 53,
   "metadata": {},
   "outputs": [],
   "source": [
    "# # Loop para EXIBIR os resultados a partir do DataFrame\n",
    "# for model_name, _, _ in other_candidates:\n",
    "    \n",
    "#     # Filtra o DataFrame para o modelo atual\n",
    "#     model_results_df = all_results_df[\n",
    "#         (all_results_df['model_name'] == model_name) &\n",
    "#         (all_results_df['optimization_method'] == 'baseline')\n",
    "#     ]\n",
    "\n",
    "\n",
    "\n",
    "# # Exibir um resumo dos melhores resultados encontrados até agora\n",
    "# display_results_summary(all_results_df, top_n=len(candidates), metric='r2_cv_mean')"
   ]
  },
  {
   "cell_type": "code",
   "execution_count": 55,
   "metadata": {},
   "outputs": [
    {
     "name": "stdout",
     "output_type": "stream",
     "text": [
      "====================================================================================================\n",
      "Iniciando Otimização Bayesiana de Hiperparâmetros (n_iter=3)\n",
      "Métrica de otimização: r2\n",
      "====================================================================================================\n",
      "\n",
      "--- Modelo 'LINEAR' sem hiperparâmetros para otimizar. Pulando. ---\n",
      "\n",
      "Otimizando: XGBOOST com Scaler: standard...\n",
      "\n",
      "Iteração 1: xgboost + standard\n",
      "   Validação estimada r2: 0.7772\n",
      "\n",
      "Iteração 2: xgboost + standard\n",
      "   Validação estimada r2: 0.7148\n",
      "\n",
      "Iteração 3: xgboost + standard\n",
      "   Validação estimada r2: 0.7208\n",
      "\n",
      "⚠️ ALERTA: Possível overfitting detectado na iteração 1!\n",
      "   Treino: 0.9949, Validação: 0.7772, Diferença: 0.2177\n",
      "\n",
      "Melhor xgboost + standard:\n",
      "Melhor score (r2): 0.7772\n",
      "Melhores parâmetros: OrderedDict([('regressor__colsample_bytree', 0.7640415835413256), ('regressor__gamma', 3.6386287158866253), ('regressor__learning_rate', 0.2387586688716479), ('regressor__max_depth', 6), ('regressor__min_child_weight', 7), ('regressor__n_estimators', 154), ('regressor__reg_alpha', 0.701862669798288), ('regressor__reg_lambda', 3.8277690538568923), ('regressor__subsample', 0.7217853244146024)])\n",
      "Otimização concluída em 19.94 segundos.\n",
      "Melhor r2 (CV): 0.7772\n",
      "Melhores hiperparâmetros: OrderedDict([('regressor__colsample_bytree', 0.7640415835413256), ('regressor__gamma', 3.6386287158866253), ('regressor__learning_rate', 0.2387586688716479), ('regressor__max_depth', 6), ('regressor__min_child_weight', 7), ('regressor__n_estimators', 154), ('regressor__reg_alpha', 0.701862669798288), ('regressor__reg_lambda', 3.8277690538568923), ('regressor__subsample', 0.7217853244146024)])\n",
      "N. Iterações: 3\n",
      "\n",
      "Otimizando: LIGHTGBM com Scaler: standard...\n",
      "\n",
      "Iteração 1: lightgbm + standard\n",
      "   Validação estimada r2: 0.7723\n",
      "\n",
      "Iteração 2: lightgbm + standard\n",
      "   Validação estimada r2: 0.7296\n",
      "\n",
      "Iteração 3: lightgbm + standard\n",
      "   Validação estimada r2: 0.7679\n",
      "\n",
      "⚠️ ALERTA: Possível overfitting detectado na iteração 1!\n",
      "   Treino: 0.9933, Validação: 0.7723, Diferença: 0.2210\n",
      "\n",
      "Melhor lightgbm + standard:\n",
      "Melhor score (r2): 0.7723\n",
      "Melhores parâmetros: OrderedDict([('regressor__bagging_freq', 4), ('regressor__colsample_bytree', 0.89109029727093), ('regressor__learning_rate', 0.2387586688716479), ('regressor__max_depth', 7), ('regressor__min_child_samples', 35), ('regressor__n_estimators', 266), ('regressor__num_leaves', 48), ('regressor__reg_alpha', 1.479008468380841), ('regressor__reg_lambda', 1.8700848996642778), ('regressor__subsample', 0.859116635338751)])\n",
      "Otimização concluída em 23.28 segundos.\n",
      "Melhor r2 (CV): 0.7723\n",
      "Melhores hiperparâmetros: OrderedDict([('regressor__bagging_freq', 4), ('regressor__colsample_bytree', 0.89109029727093), ('regressor__learning_rate', 0.2387586688716479), ('regressor__max_depth', 7), ('regressor__min_child_samples', 35), ('regressor__n_estimators', 266), ('regressor__num_leaves', 48), ('regressor__reg_alpha', 1.479008468380841), ('regressor__reg_lambda', 1.8700848996642778), ('regressor__subsample', 0.859116635338751)])\n",
      "N. Iterações: 3\n",
      "\n",
      "Otimizando: SVR com Scaler: standard...\n",
      "\n",
      "Iteração 1: svr + standard\n",
      "   Validação estimada r2: 0.7305\n",
      "\n",
      "Iteração 2: svr + standard\n",
      "   Validação estimada r2: 0.7189\n",
      "\n",
      "Iteração 3: svr + standard\n",
      "   Validação estimada r2: 0.7307\n",
      "\n",
      "⚠️ ALERTA: Possível overfitting detectado na iteração 2!\n",
      "   Treino: 0.9800, Validação: 0.7189, Diferença: 0.2611\n",
      "\n",
      "Melhor svr + standard:\n",
      "Melhor score (r2): 0.7307\n",
      "Melhores parâmetros: OrderedDict([('regressor__C', 2.1602177830877722), ('regressor__coef0', 0.9187225216693771), ('regressor__degree', 2), ('regressor__epsilon', 0.07356404539935663), ('regressor__gamma', 0.0036632415719891993), ('regressor__kernel', 'linear')])\n",
      "Otimização concluída em 0.85 segundos.\n",
      "Melhor r2 (CV): 0.7307\n",
      "Melhores hiperparâmetros: OrderedDict([('regressor__C', 2.1602177830877722), ('regressor__coef0', 0.9187225216693771), ('regressor__degree', 2), ('regressor__epsilon', 0.07356404539935663), ('regressor__gamma', 0.0036632415719891993), ('regressor__kernel', 'linear')])\n",
      "N. Iterações: 3\n",
      "\n",
      "====================================================================================================\n",
      "TODAS AS OTIMIZAÇÕES FORAM CONCLUÍDAS.\n",
      "====================================================================================================\n"
     ]
    }
   ],
   "source": [
    "# --- Célula de Otimização de Hiperparâmetros com BayesSearchCV ---\n",
    "# Parâmetros para a Otimização Bayesiana\n",
    "N_ITER_BAYES = 3  # Número de iterações da busca. Aumentar para uma busca mais exaustiva.\n",
    "\n",
    "\n",
    "# Dicionário para armazenar os resultados detalhados dos folds para o boxplot\n",
    "boxplot_data = []\n",
    "\n",
    "print(\"=\"*100)\n",
    "print(f\"Iniciando Otimização Bayesiana de Hiperparâmetros (n_iter={N_ITER_BAYES})\")\n",
    "print(f\"Métrica de otimização: {METRIC_TO_OPTIMIZE}\")\n",
    "print(\"=\"*100)\n",
    "\n",
    "# Loop através dos candidatos e scalers\n",
    "# for scaler_name, scaler in scalers:\n",
    "for model_name, model, params in candidates:\n",
    "    # Pula modelos que não têm hiperparâmetros para otimizar\n",
    "    if not params:\n",
    "        print(f\"\\n--- Modelo '{model_name.upper()}' sem hiperparâmetros para otimizar. Pulando. ---\")\n",
    "        continue\n",
    "    \n",
    "    start_time = time.time()\n",
    "    print(f\"\\nOtimizando: {model_name.upper()} com Scaler: {scaler_name}...\")\n",
    "    \n",
    "    # 1. Cria o pipeline\n",
    "    pipeline = Pipeline([\n",
    "        ('scaler', scaler),\n",
    "        ('regressor', clone(model))\n",
    "    ])\n",
    "    \n",
    "    # 2. Configura o BayesSearchCV\n",
    "    bayes_search = BayesSearchCV(\n",
    "        estimator=pipeline,\n",
    "        search_spaces=params,\n",
    "        n_iter=N_ITER_BAYES,\n",
    "        cv=KFold(n_splits=CV_FOLDS, shuffle=True, random_state=SEED),\n",
    "        scoring=scoring,  # Passa o dicionário completo de métricas\n",
    "        refit=METRIC_TO_OPTIMIZE, # Informa qual métrica usar para encontrar o melhor modelo\n",
    "        n_jobs=-1,\n",
    "        verbose=0,\n",
    "        random_state=SEED,\n",
    "        return_train_score=True\n",
    "    )\n",
    "    \n",
    "    # 3. Preparar early stopping se o modelo suportar\n",
    "    fit_params, X_train_fit, y_train_fit = prepare_early_stopping_params(model_name, X_train, y_train)\n",
    "    \n",
    "    # 4. Configurar o callback para monitoramento\n",
    "    monitor = MetricsMonitorCallback(\n",
    "        model_name=model_name, \n",
    "        scaler_name=scaler_name,\n",
    "        metric=METRIC_TO_OPTIMIZE,\n",
    "        threshold=0.2,  # 20% de diferença é considerado overfitting\n",
    "        plot_interval=5,  # Plotar a cada 5 iterações\n",
    "        plot_dir='optimization_plots'  # Diretório para salvar os gráficos\n",
    "    )\n",
    "\n",
    "    # Anexa o objeto BayesSearchCV ao callback para que ele possa acessar cv_results_ durante a busca\n",
    "    monitor.bayes_search = bayes_search\n",
    "\n",
    "    # 5. Executa a busca com o callback e early stopping\n",
    "    try:\n",
    "        # 5. Executa a busca com o callback\n",
    "        # bayes_search.fit(X_train, y_train, callback=[monitor], **fit_params)\n",
    "        bayes_search.fit(X_train, y_train, callback=[monitor])\n",
    "        \n",
    "        # 6. Finalizar o callback para acessar os resultados completos\n",
    "        monitor.finalize()\n",
    "        \n",
    "    except Exception as e:\n",
    "        print(f\"Erro durante a otimização: {str(e)}\")\n",
    "    \n",
    "    # 7. Retornar o melhor modelo e seus parâmetros\n",
    "    best_params = bayes_search.best_params_\n",
    "    best_score = bayes_search.best_score_\n",
    "    best_model = bayes_search.best_estimator_\n",
    "    \n",
    "    print(f\"\\nMelhor {model_name} + {scaler_name}:\")\n",
    "    print(f\"Melhor score ({METRIC_TO_OPTIMIZE}): {best_score:.4f}\")\n",
    "    print(f\"Melhores parâmetros: {best_params}\")\n",
    "    \n",
    "    end_time = time.time()\n",
    "    print(f\"Otimização concluída em {end_time - start_time:.2f} segundos.\")\n",
    "    print(f\"Melhor {METRIC_TO_OPTIMIZE} (CV): {bayes_search.best_score_:.4f}\")\n",
    "    print(f\"Melhores hiperparâmetros: {bayes_search.best_params_}\")\n",
    "    print(f'N. Iterações: {bayes_search.n_iter}')\n",
    "    \n",
    "    # # Visualizar a importância de cada parâmetro\n",
    "    # try:\n",
    "    #     _ = plot_objective(bayes_search.optimizer_results_[0], size=3, n_points=15)\n",
    "    #     plt.tight_layout()\n",
    "    #     plt.show()\n",
    "    # except Exception as e:\n",
    "    #     print(f\"Erro ao plotar objetivos: {e}\")\n",
    "    \n",
    "    # 6. Adiciona os resultados ao DataFrame principal\n",
    "    # O BayesSearchCV não retorna todas as métricas no cv_results, então criamos um dict compatível\n",
    "    best_index = bayes_search.best_index_\n",
    "    cv_results_for_df = {\n",
    "        'train_r2': bayes_search.cv_results_['mean_train_r2'],\n",
    "        'test_r2': bayes_search.cv_results_['mean_test_r2'],\n",
    "        'train_rmse': bayes_search.cv_results_['mean_train_rmse'],\n",
    "        'test_rmse': bayes_search.cv_results_['mean_test_rmse'],\n",
    "        'train_mse': bayes_search.cv_results_['mean_train_mse'],\n",
    "        'test_mse': bayes_search.cv_results_['mean_test_mse'],\n",
    "        'train_mae': bayes_search.cv_results_['mean_train_mae'],\n",
    "        'test_mae': bayes_search.cv_results_['mean_test_mae'],\n",
    "        'fit_time': bayes_search.cv_results_['mean_fit_time'],\n",
    "        'score_time': bayes_search.cv_results_['mean_score_time']\n",
    "    }\n",
    "    \n",
    "    # O scikit-learn retorna um array para cada métrica, então pegamos o valor do melhor índice\n",
    "    for key in cv_results_for_df:\n",
    "        if key not in ['fit_time', 'score_time']:\n",
    "                cv_results_for_df[key] = np.array([cv_results_for_df[key][best_index]])\n",
    "    \n",
    "    all_results_df = add_results_to_df(\n",
    "        all_results_df,\n",
    "        model_name=model_name,\n",
    "        scaler_name=scaler_name,\n",
    "        cv_results=cv_results_for_df,\n",
    "        hyperparams=bayes_search.best_params_,\n",
    "        optimization_method='bayes_search'\n",
    "    )\n",
    "    \n",
    "    # 7. Guarda os dados dos folds (treino e teste) para o boxplot\n",
    "    for fold_idx in range(CV_FOLDS):\n",
    "        boxplot_data.append({\n",
    "            'model_name': model_name,\n",
    "            'scaler': scaler_name,\n",
    "            'type': 'Train',\n",
    "            f'{METRIC_TO_OPTIMIZE}_score': bayes_search.cv_results_[f'split{fold_idx}_train_{METRIC_TO_OPTIMIZE}'][best_index]\n",
    "        })\n",
    "        boxplot_data.append({\n",
    "            'model_name': model_name,\n",
    "            'scaler': scaler_name,\n",
    "            'type': 'Test (CV)',\n",
    "            f'{METRIC_TO_OPTIMIZE}_score': bayes_search.cv_results_[f'split{fold_idx}_test_{METRIC_TO_OPTIMIZE}'][best_index]\n",
    "        })\n",
    "\n",
    "print(\"\\n\" + \"=\"*100)\n",
    "print(\"TODAS AS OTIMIZAÇÕES FORAM CONCLUÍDAS.\")\n",
    "print(\"=\"*100)\n"
   ]
  },
  {
   "cell_type": "code",
   "execution_count": 56,
   "metadata": {},
   "outputs": [
    {
     "data": {
      "image/png": "[encoded data removed]",
      "text/plain": [
       "<Figure size 1800x1000 with 1 Axes>"
      ]
     },
     "metadata": {},
     "output_type": "display_data"
    },
    {
     "name": "stdout",
     "output_type": "stream",
     "text": [
      "\n",
      "====================================================================================================\n",
      "Resumo Geral dos Melhores Modelos (Incluindo Baseline e Otimizados)\n",
      "====================================================================================================\n",
      "\n",
      "====================================================================================================\n",
      "TOP 15 MODELOS - Ordenados por R2_CV_MEAN\n",
      "====================================================================================================\n",
      "model_name   scaler optimization_method  r2_train_mean  r2_cv_mean  rmse_train_mean  rmse_cv_mean  fit_time_mean\n",
      "   xgboost standard        bayes_search         0.9949      0.7772           1.0671        7.0285         0.3067\n",
      "   xgboost standard        bayes_search         0.9949      0.7772           1.0671        7.0285         0.3440\n",
      "  lightgbm standard        bayes_search         0.9933      0.7723           1.2237        7.0710         4.0647\n",
      "    linear standard            baseline         0.7620      0.7510           7.2980        7.4255         0.0000\n",
      "       svr standard        bayes_search         0.7383      0.7307           7.6531        7.7197         0.0251\n",
      "\n",
      "==================================================\n",
      "ESTATÍSTICAS GERAIS:\n",
      "==================================================\n",
      "Total de experimentos: 5\n",
      "Modelos únicos testados: 4\n",
      "Scalers testados: 1\n",
      "Métodos de otimização: 2\n",
      "\n",
      "Melhor resultado:\n",
      "- Modelo: xgboost\n",
      "- Scaler: standard\n",
      "- Método: bayes_search\n",
      "- r2_cv_mean: 0.7772\n",
      "\n",
      "==============================================================================================================\n",
      "TOP 15 MODELOS OTIMIZADOS - Ordenados pela MEDIANA de R2_CV\n",
      "==============================================================================================================\n",
      "model_name   scaler  r2_cv_median  r2_cv_mean  fit_time_mean\n",
      "  lightgbm standard        0.7830      0.7723         4.0647\n",
      "   xgboost standard        0.7728      0.7772         0.3067\n",
      "   xgboost standard        0.7728      0.7772         0.3440\n",
      "       svr standard        0.7283      0.7307         0.0251\n"
     ]
    }
   ],
   "source": [
    "# --- Célula de Visualização dos Resultados da Otimização ---\n",
    "\n",
    "# Criar um DataFrame a partir dos dados do boxplot\n",
    "boxplot_df = pd.DataFrame(boxplot_data)\n",
    "\n",
    "bayes_results_df = all_results_df[all_results_df['optimization_method'] == 'bayes_search'].copy()\n",
    "\n",
    "# Filtrar apenas os melhores resultados de cada modelo (melhor scaler)\n",
    "best_optimized_models = bayes_results_df.loc[\n",
    "    bayes_results_df.groupby('model_name')[f'{METRIC_TO_OPTIMIZE}_cv_mean'].idxmax()\n",
    "]\n",
    "\n",
    "# Criar uma lista com os nomes dos melhores modelos e seus scalers para o filtro\n",
    "best_model_scaler_pairs = list(zip(best_optimized_models['model_name'], best_optimized_models['scaler']))\n",
    "\n",
    "# Filtrar o boxplot_df para conter apenas os melhores\n",
    "best_boxplot_df = boxplot_df[\n",
    "    boxplot_df.apply(lambda row: (row['model_name'], row['scaler']) in best_model_scaler_pairs, axis=1)\n",
    "].copy()\n",
    "\n",
    "# Adicionar uma coluna de identificação para o plot\n",
    "best_boxplot_df['model_id'] = best_boxplot_df['model_name'] + ' (' + best_boxplot_df['scaler'] + ')'\n",
    "\n",
    "# --- Cálculo da Mediana do Baseline ---\n",
    "# Identificar o melhor scaler para o modelo baseline\n",
    "baseline_name = baseline_algorithm[0]\n",
    "baseline_model = baseline_algorithm[1]\n",
    "baseline_results = all_results_df[\n",
    "    (all_results_df['model_name'] == baseline_name) &\n",
    "    (all_results_df['optimization_method'] == 'baseline')\n",
    "]\n",
    "best_baseline_config = baseline_results.loc[baseline_results[f'{METRIC_TO_OPTIMIZE}_cv_mean'].idxmax()]\n",
    "best_scaler_name = best_baseline_config['scaler']\n",
    "best_scaler_obj = dict(scalers)[best_scaler_name]\n",
    "\n",
    "# Recalcular a validação cruzada para o melhor baseline para obter os scores dos folds\n",
    "baseline_pipeline = Pipeline([('scaler', best_scaler_obj), ('regressor', baseline_model)])\n",
    "baseline_cv_scores = cross_validate(\n",
    "    baseline_pipeline, X_train, y_train, cv=CV_FOLDS, scoring=METRIC_TO_OPTIMIZE\n",
    ")['test_score']\n",
    "\n",
    "# Calcular a mediana dos scores\n",
    "baseline_median_score = np.median(baseline_cv_scores)\n",
    "\n",
    "# Plotar o boxplot\n",
    "#plt.style.use('seaborn-v0_8-whitegrid')\n",
    "fig, ax = plt.subplots(figsize=(18, 10))\n",
    "\n",
    "sns.boxplot(\n",
    "    data=best_boxplot_df,\n",
    "    x='model_id',\n",
    "    y=f'{METRIC_TO_OPTIMIZE}_score',\n",
    "    hue='type',\n",
    "    ax=ax,\n",
    "    palette={'Train': 'lightblue', 'Test (CV)': 'lightgreen'} # Paleta ajustada\n",
    ")\n",
    "\n",
    "ax.set_title(f'Distribuição do {METRIC_TO_OPTIMIZE} (Treino vs. Teste) nos Folds da CV para os Melhores Modelos Otimizados', fontsize=18, pad=20)\n",
    "ax.set_xlabel('Modelo (com melhor scaler)', fontsize=12)\n",
    "ax.set_ylabel(f'Score {METRIC_TO_OPTIMIZE}', fontsize=12)\n",
    "ax.tick_params(axis='x', rotation=45, labelsize=10)\n",
    "ax.tick_params(axis='y', labelsize=10)\n",
    "ax.legend(title='Tipo de Score', fontsize=10)\n",
    "ax.axhline(baseline_median_score, color='red', linestyle='--', linewidth=1.2, label=f'Mediana Baseline ({baseline_name}): {baseline_median_score:.3f}')\n",
    "ax.grid(axis='y', linestyle='--', alpha=0.7) # Adicionado grid para melhor visualização\n",
    "# ax.yaxis.grid(True)\n",
    "\n",
    "# Atualiza a legenda para incluir a linha do baseline\n",
    "handles, labels = ax.get_legend_handles_labels()\n",
    "ax.legend(handles=handles, labels=labels, title='Legenda', fontsize=10)\n",
    "\n",
    "plt.tight_layout()\n",
    "plt.show()\n",
    "\n",
    "# Exibir o resumo dos melhores modelos, incluindo os otimizados\n",
    "print(\"\\n\" + \"=\"*100)\n",
    "print(\"Resumo Geral dos Melhores Modelos (Incluindo Baseline e Otimizados)\")\n",
    "print(\"=\"*100)\n",
    "display_results_summary(all_results_df, top_n=15, metric=f'{METRIC_TO_OPTIMIZE}_cv_mean')\n",
    "display_results_summary_median(\n",
    "    summary_df=all_results_df,\n",
    "    fold_scores_df=boxplot_df,\n",
    "    top_n=15,\n",
    "    metric=METRIC_TO_OPTIMIZE\n",
    ")"
   ]
  },
  {
   "cell_type": "code",
   "execution_count": null,
   "metadata": {},
   "outputs": [],
   "source": [
    "import joblib\n",
    "\n",
    "print(\"Melhores hiperparâmetros encontrados:\")\n",
    "print(bayes_search.best_params_)\n",
    "\n",
    "# Salvar o melhor modelo treinado (pipeline) em um arquivo\n",
    "best_model_filename = 'melhor_modelo_otimizado.joblib'\n",
    "joblib.dump(bayes_search.best_estimator_, best_model_filename)\n",
    "print(f\"Melhor modelo otimizado salvo em '{best_model_filename}'.\")"
   ]
  },
  {
   "cell_type": "code",
   "execution_count": null,
   "metadata": {},
   "outputs": [],
   "source": [
    "# --- Avaliação do Melhor Modelo no Conjunto de Teste (Dados Não Vistos) ---\n",
    "\n",
    "# 1. O `best_estimator_` do BayesSearchCV é o pipeline já treinado com os melhores parâmetros\n",
    "#    encontrados na última busca. Vamos usá-lo para prever nos dados de teste.\n",
    "#    Nota: Isso usa o melhor estimador da ÚLTIMA busca no loop (neste caso, SVR).\n",
    "#    Se o melhor modelo geral for outro, o processo seria um pouco diferente.\n",
    "best_model_final = bayes_search.best_estimator_\n",
    "\n",
    "# 2. Fazer previsões no conjunto de teste\n",
    "y_pred_test = best_model_final.predict(X_test)\n",
    "\n",
    "# 3. Calcular as métricas de avaliação\n",
    "r2_test = r2_score(y_test, y_pred_test)\n",
    "mse_test = mean_squared_error(y_test, y_pred_test)\n",
    "rmse_test = np.sqrt(mse_test)\n",
    "mae_test = mean_absolute_error(y_test, y_pred_test)\n",
    "\n",
    "# 4. Exibir os resultados\n",
    "print(\"=\"*80)\n",
    "print(f\"Resultados do Melhor Modelo no Conjunto de Teste (X_test)\")\n",
    "# Extrai o nome do modelo do pipeline para exibição\n",
    "model_name_in_pipeline = best_model_final.named_steps['regressor'].__class__.__name__\n",
    "print(f\"Modelo: {model_name_in_pipeline}\")\n",
    "print(\"=\"*80)\n",
    "\n",
    "metrics_data = [\n",
    "    [\"R² (R-squared)\", f\"{r2_test:.4f}\"],\n",
    "    [\"MSE (Mean Squared Error)\", f\"{mse_test:.4f}\"],\n",
    "    [\"RMSE (Root Mean Squared Error)\", f\"{rmse_test:.4f}\"],\n",
    "    [\"MAE (Mean Absolute Error)\", f\"{mae_test:.4f}\"]\n",
    "]\n",
    "headers = [\"Métrica\", \"Valor no Conjunto de Teste\"]\n",
    "\n",
    "print(tabulate(metrics_data, headers=headers, tablefmt=\"grid\"))\n",
    "print(\"=\"*80)"
   ]
  },
  {
   "cell_type": "code",
   "execution_count": null,
   "metadata": {},
   "outputs": [],
   "source": [
    "import ast\n",
    "\n",
    "# --- Retreinamento do Melhor Modelo com Todos os Dados ---\n",
    "\n",
    "print(\"=\"*80)\n",
    "print(\"Retreinando o melhor modelo com o dataset completo (X, y)\")\n",
    "print(\"=\"*80)\n",
    "\n",
    "# 1. Identificar o melhor modelo geral a partir dos resultados\n",
    "best_model_info = all_results_df.loc[all_results_df['r2_cv_mean'].idxmax()]\n",
    "\n",
    "best_model_name = best_model_info['model_name']\n",
    "best_scaler_name = best_model_info['scaler']\n",
    "best_params_str = best_model_info['hyperparams']\n",
    "\n",
    "# Converter a string de hiperparâmetros de volta para um dicionário\n",
    "# Usar ast.literal_eval é mais seguro do que eval()\n",
    "try:\n",
    "    best_params = ast.literal_eval(best_params_str)\n",
    "except (ValueError, SyntaxError):\n",
    "    best_params = {} # Caso os hiperparâmetros sejam 'default' ou algo não-dicionário\n",
    "\n",
    "# 2. Encontrar os objetos originais do modelo e do scaler\n",
    "model_obj = None\n",
    "for name, model, _ in candidates:\n",
    "    if name == best_model_name:\n",
    "        model_obj = clone(model)\n",
    "        break\n",
    "\n",
    "scaler_obj = None\n",
    "for name, scaler in scalers:\n",
    "    if name == best_scaler_name:\n",
    "        scaler_obj = scaler\n",
    "        break\n",
    "\n",
    "if model_obj is None or scaler_obj is None:\n",
    "    print(\"Erro: Não foi possível encontrar o modelo ou scaler correspondente.\")\n",
    "else:\n",
    "    # 3. Criar o pipeline final\n",
    "    final_pipeline = Pipeline([\n",
    "        ('scaler', scaler_obj),\n",
    "        ('regressor', model_obj)\n",
    "    ])\n",
    "\n",
    "    # 4. Definir os melhores hiperparâmetros no pipeline\n",
    "    # Adiciona o prefixo 'regressor__' se não estiver presente\n",
    "    final_params = {}\n",
    "    for key, value in best_params.items():\n",
    "        if not key.startswith('regressor__'):\n",
    "            final_params[f'regressor__{key}'] = value\n",
    "        else:\n",
    "            final_params[key] = value\n",
    "            \n",
    "    final_pipeline.set_params(**final_params)\n",
    "\n",
    "    # 5. Retreinar o pipeline com todos os dados (X e y)\n",
    "    print(f\"Modelo selecionado: {best_model_name.upper()}\")\n",
    "    print(f\"Scaler: {best_scaler_name}\")\n",
    "    print(f\"Hiperparâmetros: {best_params}\")\n",
    "    \n",
    "    start_fit_time = time.time()\n",
    "    final_pipeline.fit(X, y)\n",
    "    end_fit_time = time.time()\n",
    "    \n",
    "    print(f\"\\nTreinamento com dados completos concluído em {end_fit_time - start_fit_time:.2f} segundos.\")\n",
    "\n",
    "    # 6. Fazer previsões nos próprios dados de treinamento para avaliar o ajuste\n",
    "    y_pred_full = final_pipeline.predict(X)\n",
    "\n",
    "    # 7. Calcular e exibir as métricas de desempenho no conjunto de dados completo\n",
    "    r2_full = r2_score(y, y_pred_full)\n",
    "    mse_full = mean_squared_error(y, y_pred_full)\n",
    "    rmse_full = np.sqrt(mse_full)\n",
    "    mae_full = mean_absolute_error(y, y_pred_full)\n",
    "\n",
    "    print(\"\\n\" + \"=\"*80)\n",
    "    print(\"Métricas do Modelo Final (avaliadas no dataset completo)\")\n",
    "    \n",
    "    full_metrics_data = [\n",
    "        [\"R² (R-squared)\", f\"{r2_full:.4f}\"],\n",
    "        [\"MSE (Mean Squared Error)\", f\"{mse_full:.4f}\"],\n",
    "        [\"RMSE (Root Mean Squared Error)\", f\"{rmse_full:.4f}\"],\n",
    "        [\"MAE (Mean Absolute Error)\", f\"{mae_full:.4f}\"]\n",
    "    ]\n",
    "    headers_full = [\"Métrica\", \"Valor no Dataset Completo\"]\n",
    "\n",
    "    print(tabulate(full_metrics_data, headers=headers_full, tablefmt=\"grid\"))\n",
    "    print(\"=\"*80)"
   ]
  },
  {
   "cell_type": "code",
   "execution_count": null,
   "metadata": {},
   "outputs": [],
   "source": [
    "\n",
    "\n",
    "# --- Gráficos de Análise do Modelo Final ---\n",
    "\n",
    "# 1. Calcular o erro\n",
    "prediction_error = y - y_pred_full\n",
    "\n",
    "# 2. Criar os subplots\n",
    "fig = make_subplots(\n",
    "    rows=2, cols=1,\n",
    "    shared_xaxes=True,\n",
    "    vertical_spacing=0.1,\n",
    "    subplot_titles=(\n",
    "        \"Tendência do Erro de Predição (Real - Previsto)\",\n",
    "        \"Comparativo: Valores Reais vs. Valores Previstos\"\n",
    "    )\n",
    ")\n",
    "\n",
    "# --- Gráfico 1: Tendência do Erro ---\n",
    "fig.add_trace(\n",
    "    go.Scatter(\n",
    "        x=y.index,\n",
    "        y=prediction_error,\n",
    "        mode='lines',\n",
    "        name='Erro',\n",
    "        line=dict(color='indianred')\n",
    "    ),\n",
    "    row=1, col=1\n",
    ")\n",
    "# Adiciona uma linha em y=0 para referência de erro nulo\n",
    "fig.add_hline(y=0, line_dash=\"dash\", line_color=\"black\", row=1, col=1)\n",
    "\n",
    "# --- Gráfico 2: Real vs. Previsto ---\n",
    "# Adiciona a linha dos valores reais\n",
    "fig.add_trace(\n",
    "    go.Scatter(\n",
    "        x=y.index,\n",
    "        y=y,\n",
    "        mode='lines',\n",
    "        name='Valor Real',\n",
    "        line=dict(color='royalblue')\n",
    "    ),\n",
    "    row=2, col=1\n",
    ")\n",
    "# Adiciona a linha dos valores previstos\n",
    "fig.add_trace(\n",
    "    go.Scatter(\n",
    "        x=y.index,\n",
    "        y=y_pred_full,\n",
    "        mode='lines',\n",
    "        name='Valor Previsto',\n",
    "        line=dict(color='darkorange', dash='dot')\n",
    "    ),\n",
    "    row=2, col=1\n",
    ")\n",
    "\n",
    "# 3. Atualizar o layout geral\n",
    "fig.update_layout(\n",
    "    height=700,\n",
    "    title_text=\"Análise Gráfica do Desempenho do Modelo Final no Dataset Completo\",\n",
    "    showlegend=True,\n",
    "    legend=dict(orientation=\"h\", yanchor=\"bottom\", y=1.02, xanchor=\"right\", x=1)\n",
    ")\n",
    "\n",
    "# Atualizar os títulos dos eixos\n",
    "fig.update_yaxes(title_text=\"Erro (Real - Previsto)\", row=1, col=1)\n",
    "fig.update_yaxes(title_text=\"Valor da Variável Target\", row=2, col=1)\n",
    "fig.update_xaxes(title_text=\"Índice da Amostra\", row=2, col=1)\n",
    "\n",
    "\n",
    "fig.show()"
   ]
  },
  {
   "cell_type": "code",
   "execution_count": null,
   "metadata": {},
   "outputs": [],
   "source": [
    "# --- Salvando e Carregando o Modelo Final ---\n",
    "\n",
    "# 1. Definir o nome do arquivo para salvar o modelo\n",
    "model_filename = 'modelo_final_pv_nafta.joblib'\n",
    "\n",
    "# 2. Salvar o pipeline treinado em um arquivo\n",
    "print(\"=\"*80)\n",
    "print(f\"Salvando o modelo final em '{model_filename}'...\")\n",
    "joblib.dump(final_pipeline, model_filename)\n",
    "print(\"Modelo salvo com sucesso!\")\n",
    "print(\"=\"*80)\n",
    "\n",
    "\n",
    "# --- Demonstração de Carregamento e Uso ---\n",
    "\n",
    "# 3. Carregar o modelo a partir do arquivo\n",
    "print(\"\\nCarregando o modelo para demonstração...\")\n",
    "loaded_model = joblib.load(model_filename)\n",
    "print(\"Modelo carregado com sucesso.\")\n",
    "\n",
    "# 4. Usar o modelo carregado para fazer uma predição em um novo dado\n",
    "#    (usaremos a primeira linha do dataset X como exemplo)\n",
    "sample_data = X.head(1)\n",
    "prediction = loaded_model.predict(sample_data)\n",
    "\n",
    "print(\"\\n\" + \"=\"*80)\n",
    "print(\"Exemplo de predição com o modelo carregado:\")\n",
    "print(f\"Dados de entrada (primeira linha do dataset):\\n{sample_data.to_string()}\")\n",
    "print(f\"\\nValor Predito: {prediction[0]:.4f}\")\n",
    "print(\"=\"*80)"
   ]
  },
  {
   "cell_type": "markdown",
   "metadata": {
    "id": "OY_GDjf1G-PM"
   },
   "source": [
    "# Conclusão\n",
    "\n",
    "O presente estudo demonstrou a importância de um processo rigoroso de análise exploratória, tratamento e pré-processamento dos dados para problemas de regressão em ambientes industriais. A partir do dataset de Pressão de Vapor da Nafta, foi possível identificar, tratar e justificar a remoção de outliers, realizar imputação de valores faltantes, criar variáveis derivadas relevantes (como a razão de refluxo), além de aplicar técnicas de transformação para redução de assimetrias e multicolinearidade.\n",
    "\n",
    "A análise estatística e visual das variáveis, aliada ao conhecimento de domínio, permitiu selecionar os atributos mais representativos para a modelagem preditiva, reduzindo redundâncias e otimizando o conjunto de dados para futuros algoritmos de machine learning. As etapas de normalização e padronização garantiram que as diferentes escalas das variáveis não influenciassem indevidamente o desempenho dos modelos.\n",
    "\n"
   ]
  }
 ],
 "metadata": {
  "colab": {
   "provenance": [],
   "toc_visible": true
  },
  "kernelspec": {
   "display_name": ".venv",
   "language": "python",
   "name": "python3"
  },
  "language_info": {
   "codemirror_mode": {
    "name": "ipython",
    "version": 3
   },
   "file_extension": ".py",
   "mimetype": "text/x-python",
   "name": "python",
   "nbconvert_exporter": "python",
   "pygments_lexer": "ipython3",
   "version": "3.10.14"
  }
 },
 "nbformat": 4,
 "nbformat_minor": 0
}
