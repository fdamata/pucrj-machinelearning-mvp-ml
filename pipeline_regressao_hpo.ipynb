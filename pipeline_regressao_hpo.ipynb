{
 "cells": [
  {
   "cell_type": "markdown",
   "id": "283b2ca1",
   "metadata": {},
   "source": [
    "\n",
    "# Pipeline de Otimização de Hiperparâmetros para Regressão\n",
    "\n",
    "Este notebook implementa um pipeline completo de otimização de hiperparâmetros com validação cruzada para múltiplos algoritmos de regressão. Utilizamos `BayesSearchCV` do pacote `scikit-optimize` para encontrar os melhores parâmetros de cada modelo.\n",
    "\n",
    "## Etapas:\n",
    "- Divisão dos dados em `dev` e `test_final`\n",
    "- Construção de pipelines com pré-processamento\n",
    "- Otimização de hiperparâmetros com validação cruzada\n",
    "- Avaliação com métricas: R², RMSE, RME\n",
    "- Visualização dos resultados com boxplot\n",
    "\n",
    "## Parametrização:\n",
    "- `SEED`: controle de aleatoriedade\n",
    "- `CV_FOLDS`: número de folds na validação cruzada\n",
    "- `SPLIT`: proporção do conjunto de teste final\n",
    "- `METRIC_TO_OPT`: métrica principal para otimização\n",
    "\n",
    "## Requisitos:\n",
    "- Arquivo externo `ALGO_CONFIGS.json` com metadados dos algoritmos\n"
   ]
  },
  {
   "cell_type": "code",
   "execution_count": 1,
   "id": "e4b67dfe",
   "metadata": {},
   "outputs": [],
   "source": [
    "\n",
    "import json\n",
    "import os\n",
    "import numpy as np\n",
    "import pandas as pd\n",
    "import matplotlib.pyplot as plt\n",
    "import seaborn as sns\n",
    "\n",
    "from sklearn.model_selection import train_test_split\n",
    "from sklearn.pipeline import Pipeline\n",
    "from sklearn.preprocessing import StandardScaler\n",
    "from sklearn.metrics import r2_score, mean_squared_error\n",
    "\n",
    "from skopt import BayesSearchCV\n",
    "from skopt.space import Real, Integer, Categorical\n",
    "\n",
    "import importlib\n",
    "\n",
    "# Parametrização\n",
    "SEED = 42\n",
    "CV_FOLDS = 5\n",
    "SPLIT = 0.2\n",
    "METRIC_TO_OPT = 'r2'\n"
   ]
  },
  {
   "cell_type": "code",
   "execution_count": 2,
   "id": "f5ecd353",
   "metadata": {},
   "outputs": [],
   "source": [
    "\n",
    "def rmse(y_true, y_pred):\n",
    "    return mean_squared_error(y_true, y_pred, squared=False)\n",
    "\n",
    "def rme(y_true, y_pred):\n",
    "    return np.mean((y_true - y_pred) / y_true)\n"
   ]
  },
  {
   "cell_type": "code",
   "execution_count": 3,
   "id": "959491c8",
   "metadata": {},
   "outputs": [],
   "source": [
    "\n",
    "# Carregar configurações dos algoritmos\n",
    "algo_configs_path = \"ALGO_CONFIGS.json\"\n",
    "if not os.path.exists(algo_configs_path):\n",
    "    raise FileNotFoundError(\"Arquivo ALGO_CONFIGS.json não encontrado.\")\n",
    "\n",
    "with open(algo_configs_path, \"r\") as f:\n",
    "    algo_configs = json.load(f)\n"
   ]
  },
  {
   "cell_type": "code",
   "execution_count": 4,
   "id": "4eca2381",
   "metadata": {},
   "outputs": [],
   "source": [
    "\n",
    "from sklearn.datasets import make_regression\n",
    "X, y = make_regression(n_samples=1000, n_features=20, noise=0.1, random_state=SEED)\n",
    "\n",
    "# Divisão dos dados\n",
    "X_dev, X_test, y_dev, y_test = train_test_split(X, y, test_size=SPLIT, random_state=SEED)\n"
   ]
  },
  {
   "cell_type": "code",
   "execution_count": 5,
   "id": "f1c87a4c",
   "metadata": {},
   "outputs": [
    {
     "name": "stdout",
     "output_type": "stream",
     "text": [
      "Processando: LinearRegression\n"
     ]
    },
    {
     "ename": "KeyError",
     "evalue": "'module_name'",
     "output_type": "error",
     "traceback": [
      "\u001b[1;31m---------------------------------------------------------------------------\u001b[0m",
      "\u001b[1;31mKeyError\u001b[0m                                  Traceback (most recent call last)",
      "Cell \u001b[1;32mIn[5], line 7\u001b[0m\n\u001b[0;32m      4\u001b[0m \u001b[38;5;28;01mfor\u001b[39;00m algo_name, config \u001b[38;5;129;01min\u001b[39;00m algo_configs\u001b[38;5;241m.\u001b[39mitems():\n\u001b[0;32m      5\u001b[0m     \u001b[38;5;28mprint\u001b[39m(\u001b[38;5;124mf\u001b[39m\u001b[38;5;124m\"\u001b[39m\u001b[38;5;124mProcessando: \u001b[39m\u001b[38;5;132;01m{\u001b[39;00malgo_name\u001b[38;5;132;01m}\u001b[39;00m\u001b[38;5;124m\"\u001b[39m)\n\u001b[1;32m----> 7\u001b[0m     module \u001b[38;5;241m=\u001b[39m importlib\u001b[38;5;241m.\u001b[39mimport_module(\u001b[43mconfig\u001b[49m\u001b[43m[\u001b[49m\u001b[38;5;124;43m\"\u001b[39;49m\u001b[38;5;124;43mmodule_name\u001b[39;49m\u001b[38;5;124;43m\"\u001b[39;49m\u001b[43m]\u001b[49m)\n\u001b[0;32m      8\u001b[0m     model_class \u001b[38;5;241m=\u001b[39m \u001b[38;5;28mgetattr\u001b[39m(module, config[\u001b[38;5;124m\"\u001b[39m\u001b[38;5;124mmodel_class\u001b[39m\u001b[38;5;124m\"\u001b[39m])\n\u001b[0;32m      9\u001b[0m     model \u001b[38;5;241m=\u001b[39m model_class(\u001b[38;5;241m*\u001b[39m\u001b[38;5;241m*\u001b[39mconfig[\u001b[38;5;124m\"\u001b[39m\u001b[38;5;124mdefault_params\u001b[39m\u001b[38;5;124m\"\u001b[39m])\n",
      "\u001b[1;31mKeyError\u001b[0m: 'module_name'"
     ]
    }
   ],
   "source": [
    "\n",
    "cv_results = {}\n",
    "test_results = {}\n",
    "\n",
    "for algo_name, config in algo_configs.items():\n",
    "    print(f\"Processando: {algo_name}\")\n",
    "\n",
    "    module = importlib.import_module(config[\"module_name\"])\n",
    "    model_class = getattr(module, config[\"model_class\"])\n",
    "    model = model_class(**config[\"default_params\"])\n",
    "\n",
    "    pipe = Pipeline([\n",
    "        ('scaler', StandardScaler()),\n",
    "        ('regressor', model)\n",
    "    ])\n",
    "\n",
    "    search_space = {f'regressor__{k}': v for k, v in config[\"search_space\"].items()}\n",
    "\n",
    "    opt = BayesSearchCV(\n",
    "        estimator=pipe,\n",
    "        search_spaces=search_space,\n",
    "        n_iter=20,\n",
    "        cv=CV_FOLDS,\n",
    "        scoring=METRIC_TO_OPT,\n",
    "        random_state=SEED,\n",
    "        return_train_score=False,\n",
    "        n_jobs=-1\n",
    "    )\n",
    "\n",
    "    opt.fit(X_dev, y_dev)\n",
    "    y_pred_test = opt.predict(X_test)\n",
    "\n",
    "    test_metrics = {\n",
    "        'r2': r2_score(y_test, y_pred_test),\n",
    "        'rmse': rmse(y_test, y_pred_test),\n",
    "        'rme': rme(y_test, y_pred_test)\n",
    "    }\n",
    "    test_results[algo_name] = test_metrics\n",
    "\n",
    "    fold_metrics = {'r2': [], 'rmse': [], 'rme': []}\n",
    "    for train_idx, val_idx in opt.cv.split(X_dev, y_dev):\n",
    "        X_train, X_val = X_dev[train_idx], X_dev[val_idx]\n",
    "        y_train, y_val = y_dev[train_idx], y_dev[val_idx]\n",
    "\n",
    "        opt.estimator.fit(X_train, y_train)\n",
    "        y_pred_val = opt.estimator.predict(X_val)\n",
    "\n",
    "        fold_metrics['r2'].append(r2_score(y_val, y_pred_val))\n",
    "        fold_metrics['rmse'].append(rmse(y_val, y_pred_val))\n",
    "        fold_metrics['rme'].append(rme(y_val, y_pred_val))\n",
    "\n",
    "    cv_results[algo_name] = fold_metrics\n"
   ]
  },
  {
   "cell_type": "code",
   "execution_count": null,
   "id": "f8053180",
   "metadata": {},
   "outputs": [],
   "source": [
    "\n",
    "metrics_df = []\n",
    "for algo, metrics in cv_results.items():\n",
    "    for i in range(CV_FOLDS):\n",
    "        metrics_df.append({\n",
    "            'Algorithm': algo,\n",
    "            'Fold': i+1,\n",
    "            'R2': metrics['r2'][i],\n",
    "            'RMSE': metrics['rmse'][i],\n",
    "            'RME': metrics['rme'][i]\n",
    "        })\n",
    "\n",
    "metrics_df = pd.DataFrame(metrics_df)\n",
    "\n",
    "plt.figure(figsize=(15, 5))\n",
    "sns.boxplot(x='Algorithm', y=METRIC_TO_OPT.upper(), data=metrics_df.rename(columns={METRIC_TO_OPT.upper(): METRIC_TO_OPT}))\n",
    "\n",
    "for i, algo in enumerate(test_results):\n",
    "    plt.scatter(i, test_results[algo][METRIC_TO_OPT], color='red', label='Test Final' if i == 0 else \"\")\n",
    "\n",
    "plt.title(f\"Boxplot da métrica {METRIC_TO_OPT.upper()} por algoritmo (CV) com Test Final\")\n",
    "plt.legend()\n",
    "plt.xticks(rotation=45)\n",
    "plt.tight_layout()\n",
    "plt.show()\n"
   ]
  }
 ],
 "metadata": {
  "kernelspec": {
   "display_name": ".venv",
   "language": "python",
   "name": "python3"
  },
  "language_info": {
   "codemirror_mode": {
    "name": "ipython",
    "version": 3
   },
   "file_extension": ".py",
   "mimetype": "text/x-python",
   "name": "python",
   "nbconvert_exporter": "python",
   "pygments_lexer": "ipython3",
   "version": "3.10.14"
  }
 },
 "nbformat": 4,
 "nbformat_minor": 5
}
